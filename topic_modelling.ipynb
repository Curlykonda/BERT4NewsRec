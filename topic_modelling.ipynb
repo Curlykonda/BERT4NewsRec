{
 "cells": [
  {
   "cell_type": "code",
   "execution_count": 1,
   "metadata": {},
   "outputs": [
    {
     "name": "stderr",
     "output_type": "stream",
     "text": [
      "[nltk_data] Downloading package wordnet to /home/henning/nltk_data...\n",
      "[nltk_data]   Package wordnet is already up-to-date!\n",
      "[nltk_data] Downloading package stopwords to\n",
      "[nltk_data]     /home/henning/nltk_data...\n",
      "[nltk_data]   Package stopwords is already up-to-date!\n"
     ]
    },
    {
     "data": {
      "text/plain": [
       "True"
      ]
     },
     "execution_count": 1,
     "metadata": {},
     "output_type": "execute_result"
    }
   ],
   "source": [
    "import nltk\n",
    "import gensim\n",
    "from gensim.utils import simple_preprocess\n",
    "from gensim.models import CoherenceModel\n",
    "\n",
    "from nltk.tokenize import word_tokenize\n",
    "from nltk.stem import WordNetLemmatizer, SnowballStemmer\n",
    "from nltk.stem.snowball import DutchStemmer\n",
    "from nltk.stem.porter import *\n",
    "\n",
    "import matplotlib.pyplot as plt\n",
    "import numpy as np\n",
    "import pandas as pd\n",
    "import pickle\n",
    "import copy\n",
    "import random\n",
    "\n",
    "from pathlib import Path\n",
    "from pprint import pprint\n",
    "from collections import defaultdict\n",
    "import scipy.stats as stats\n",
    "\n",
    "\n",
    "nltk.download('wordnet')\n",
    "nltk.download('stopwords')"
   ]
  },
  {
   "cell_type": "code",
   "execution_count": 2,
   "metadata": {},
   "outputs": [],
   "source": [
    "stopwords = nltk.corpus.stopwords.words('dutch')\n",
    "max_art_len=100\n",
    "data_path=\"./Data/DPG_nov19/10k_time_split_n_rnd_users\"\n",
    "stemmer = DutchStemmer()"
   ]
  },
  {
   "cell_type": "code",
   "execution_count": 3,
   "metadata": {},
   "outputs": [],
   "source": [
    "# preprocessing funcs\n",
    "\n",
    "def lemmatize_stemming(text):\n",
    "    return stemmer.stem(WordNetLemmatizer().lemmatize(text, pos='v'))\n",
    "\n",
    "def preprocess(text):\n",
    "    result = []\n",
    "    for token in gensim.utils.simple_preprocess(text):\n",
    "        if token not in stopwords and len(token) > 3:\n",
    "            result.append(lemmatize_stemming(token))\n",
    "    return result"
   ]
  },
  {
   "cell_type": "code",
   "execution_count": 4,
   "metadata": {},
   "outputs": [],
   "source": [
    "def load_raw_news_data(news_path: str):\n",
    "    file_path = Path(news_path).joinpath('news_data.pkl')\n",
    "    news_data = pickle.load(file_path.open('rb'))  # dict\n",
    "    \n",
    "    return news_data['all']\n",
    "\n",
    "def load_raw_user_data(data_path: str):\n",
    "    file_path = Path(data_path).joinpath('user_data.pkl')\n",
    "    user_data = pickle.load(file_path.open('rb'))  # dict\n",
    "    \n",
    "    return user_data"
   ]
  },
  {
   "cell_type": "code",
   "execution_count": 5,
   "metadata": {},
   "outputs": [],
   "source": [
    "news_data = load_raw_news_data(data_path)"
   ]
  },
  {
   "cell_type": "code",
   "execution_count": 6,
   "metadata": {},
   "outputs": [
    {
     "data": {
      "text/plain": [
       "('362367c',\n",
       " {'text': \"ILvA wil gele zakken vervangen door container ILvA wil de afvalberg kleiner maken en stelt voor om vanaf 2021 de gele zakken te vervangen door een container. De afvalberg is groot en de verwerking ervan is erg duur. De afgelopen 10 jaar heeft ILvA het afvaltarief niet aangepast, terwijl de kostprijs voor de afvalverwerking in die periode fors is gestegen. Hierdoor moeten de gemeenten in verhouding steeds meer bijleggen, bovenop wat de inwoners betalen aan stickers en zakken. De inwoners betalen via de gemeentebelasting dus mee, maar worden niet gesensibiliseerd om minder afval te hebben. Goede sorteerders worden steeds minder beloond en daarom kiest ILvA voor de invoering van 'diftar', waarbij je betaalt per kilogram restfractie en GFT, en niet voor een algemene prijsverhoging, waarbij de zakken en stickers voor iedereen duurder zouden worden. Telkens men een container zal komen ledigen, zal de persoon in kwestie al minstens 0,25 euro betalen, een forfaitaire aanbiedingskost en daarnaast ook nog eens het afval per kilogram dat zich in de container bevindt. Wie naar het containerpark gaat, zal vanaf 2021 niet 0,05 euro, maar 0,075 euro betalen voor de eerste 2.000 kg.\",\n",
       "  'pub_date': '2019-11-01',\n",
       "  'first_pub_date': 1572566400,\n",
       "  'author': 'Marc Colpaert',\n",
       "  'snippet': 'ILvA wil gele zakken vervangen door container ILvA wil de afvalberg kleiner maken en stelt voor om vanaf 2021 de gele zakken te vervangen door een container. De afvalberg is',\n",
       "  'n_words': 189,\n",
       "  'brands': {'hln'}})"
      ]
     },
     "execution_count": 6,
     "metadata": {},
     "output_type": "execute_result"
    }
   ],
   "source": [
    "next(iter(news_data.items()))"
   ]
  },
  {
   "cell_type": "code",
   "execution_count": 7,
   "metadata": {},
   "outputs": [
    {
     "data": {
      "text/plain": [
       "'362367c'"
      ]
     },
     "execution_count": 7,
     "metadata": {},
     "output_type": "execute_result"
    }
   ],
   "source": [
    "next(iter(news_data))"
   ]
  },
  {
   "cell_type": "code",
   "execution_count": 8,
   "metadata": {},
   "outputs": [
    {
     "data": {
      "text/plain": [
       "39212"
      ]
     },
     "execution_count": 8,
     "metadata": {},
     "output_type": "execute_result"
    }
   ],
   "source": [
    "len(news_data)"
   ]
  },
  {
   "cell_type": "code",
   "execution_count": 9,
   "metadata": {},
   "outputs": [],
   "source": [
    "text=news_data['362367c']['text']"
   ]
  },
  {
   "cell_type": "code",
   "execution_count": 7,
   "metadata": {},
   "outputs": [],
   "source": [
    "proc_news = {art_id: preprocess(vals['text']) for art_id, vals in news_data.items()}"
   ]
  },
  {
   "cell_type": "code",
   "execution_count": 8,
   "metadata": {},
   "outputs": [],
   "source": [
    "art_id2idx = {art_id: i for i, art_id in enumerate(news_data.keys())}"
   ]
  },
  {
   "cell_type": "code",
   "execution_count": 42,
   "metadata": {},
   "outputs": [
    {
     "name": "stdout",
     "output_type": "stream",
     "text": [
      "Unfilt corp len: 193083\n",
      "Filtered: 24623\n"
     ]
    }
   ],
   "source": [
    "#create dictionary\n",
    "id2word = gensim.corpora.Dictionary(proc_news.values())\n",
    "\n",
    "print(\"Unfilt corp len: {}\".format(len(id2word)))\n",
    "id2word.filter_extremes(no_below=15, no_above=0.2, keep_n=100000)\n",
    "print(\"Filtered: {}\".format(len(id2word)))\n",
    "\n",
    "#create corpus\n",
    "corpus = [id2word.doc2bow(text) for text in proc_news.values()]"
   ]
  },
  {
   "cell_type": "code",
   "execution_count": 17,
   "metadata": {},
   "outputs": [
    {
     "data": {
      "text/plain": [
       "[[('aangepast', 1),\n",
       "  ('afgelop', 1),\n",
       "  ('afval', 2),\n",
       "  ('afvalberg', 2),\n",
       "  ('afvalverwerk', 1),\n",
       "  ('algemen', 1),\n",
       "  ('beloond', 1),\n",
       "  ('betaalt', 1),\n",
       "  ('betal', 4),\n",
       "  ('bevindt', 1),\n",
       "  ('bovenop', 1),\n",
       "  ('container', 4),\n",
       "  ('containerpark', 1),\n",
       "  ('daarnaast', 1),\n",
       "  ('daarom', 1),\n",
       "  ('diftar', 1),\n",
       "  ('dur', 1),\n",
       "  ('duurder', 1),\n",
       "  ('eerst', 1),\n",
       "  ('ervan', 1),\n",
       "  ('euro', 3),\n",
       "  ('for', 1),\n",
       "  ('gat', 1),\n",
       "  ('gel', 2),\n",
       "  ('gemeent', 1),\n",
       "  ('gesteg', 1),\n",
       "  ('goed', 1),\n",
       "  ('grot', 1),\n",
       "  ('hierdor', 1),\n",
       "  ('iederen', 1),\n",
       "  ('invoer', 1),\n",
       "  ('inwoner', 2),\n",
       "  ('kiest', 1),\n",
       "  ('kilogram', 2),\n",
       "  ('kleiner', 1),\n",
       "  ('kom', 1),\n",
       "  ('kostprijs', 1),\n",
       "  ('kwestie', 1),\n",
       "  ('ledig', 1),\n",
       "  ('mak', 1),\n",
       "  ('minder', 2),\n",
       "  ('minsten', 1),\n",
       "  ('moet', 1),\n",
       "  ('period', 1),\n",
       "  ('person', 1),\n",
       "  ('prijsverhog', 1),\n",
       "  ('sted', 2),\n",
       "  ('stelt', 1),\n",
       "  ('sticker', 2),\n",
       "  ('telken', 1),\n",
       "  ('terwijl', 1),\n",
       "  ('vanaf', 2),\n",
       "  ('verhoud', 1),\n",
       "  ('vervang', 2),\n",
       "  ('verwerk', 1),\n",
       "  ('waarbij', 2),\n",
       "  ('zak', 4),\n",
       "  ('zoud', 1)]]"
      ]
     },
     "execution_count": 17,
     "metadata": {},
     "output_type": "execute_result"
    }
   ],
   "source": [
    "# Human readable format of corpus (term-frequency)\n",
    "[[(id2word[id], freq) for id, freq in cp] for cp in corpus[:1]]"
   ]
  },
  {
   "cell_type": "markdown",
   "metadata": {},
   "source": [
    "## Train & Evaluate LDA model"
   ]
  },
  {
   "cell_type": "code",
   "execution_count": 43,
   "metadata": {},
   "outputs": [
    {
     "name": "stdout",
     "output_type": "stream",
     "text": [
      "\n",
      "N_topics: 30\n",
      "Perplexity:  -17.606836390749205\n",
      "Coherence Score:  0.43566077427748223\n",
      "\n",
      "N_topics: 40\n",
      "Perplexity:  -20.45114092967344\n",
      "Coherence Score:  0.3896995105795308\n",
      "\n",
      "N_topics: 50\n",
      "Perplexity:  -23.296107796582287\n",
      "Coherence Score:  0.39970038332471913\n",
      "\n",
      "\n",
      "CPU times: user 2h 48min 54s, sys: 2min 35s, total: 2h 51min 29s\n",
      "Wall time: 33min\n"
     ]
    }
   ],
   "source": [
    "%%time\n",
    "\n",
    "# create LDA model\n",
    "n_topics=[30, 40, 50]\n",
    "\n",
    "trained_models = defaultdict(dict)\n",
    "\n",
    "for n_top in n_topics:\n",
    "    \n",
    "    print(\"\\nN_topics: {}\".format(n_top))\n",
    "    \n",
    "    lda_model = gensim.models.ldamodel.LdaModel(corpus=corpus,\n",
    "                                               id2word=id2word,\n",
    "                                               num_topics=n_top, \n",
    "                                               random_state=100,\n",
    "                                               update_every=1,\n",
    "                                               chunksize=100,\n",
    "                                               passes=10,\n",
    "                                               alpha='auto',\n",
    "                                               per_word_topics=True)\n",
    "    \n",
    "    # Compute Perplexity\n",
    "    pp = lda_model.log_perplexity(corpus)\n",
    "    \n",
    "    print('Perplexity: ', pp)  # a measure of how good the model is. lower the better.\n",
    "    \n",
    "    # Compute Coherence Score\n",
    "    coherence_model_lda = CoherenceModel(model=lda_model, texts=proc_news.values(), dictionary=id2word, coherence='c_v')\n",
    "    coherence_lda = coherence_model_lda.get_coherence()\n",
    "    \n",
    "    print('Coherence Score: ', coherence_lda)\n",
    "    \n",
    "    #save    \n",
    "    trained_models[n_top]['model'] = lda_model\n",
    "    trained_models[n_top]['pp'] = pp\n",
    "    trained_models[n_top]['coh'] = coherence_lda  \n",
    "    \n",
    "    lda_model.save(data_path + \"/lda_n{}\".format(n_top))\n",
    "\n",
    "print(\"\\n\")"
   ]
  },
  {
   "cell_type": "code",
   "execution_count": 92,
   "metadata": {},
   "outputs": [
    {
     "name": "stdout",
     "output_type": "stream",
     "text": [
      "[(0,\n",
      "  '0.047*\"eerst\" + 0.026*\"twed\" + 0.024*\"twee\" + 0.023*\"ker\" + 0.016*\"drie\" + '\n",
      "  '0.016*\"laatst\" + 0.016*\"minut\" + 0.015*\"kwam\" + 0.015*\"maakt\" + '\n",
      "  '0.012*\"kreg\"'),\n",
      " (1,\n",
      "  '0.059*\"november\" + 0.054*\"zaterdag\" + 0.044*\"december\" + 0.043*\"zondag\" + '\n",
      "  '0.041*\"willem\" + 0.034*\"vrijdag\" + 0.026*\"weekend\" + 0.026*\"speeld\" + '\n",
      "  '0.023*\"bezoeker\" + 0.020*\"tijden\"'),\n",
      " (2,\n",
      "  '0.088*\"auto\" + 0.035*\"rijd\" + 0.029*\"brand\" + 0.028*\"kilometer\" + '\n",
      "  '0.024*\"bestuurder\" + 0.021*\"gewond\" + 0.019*\"wag\" + 0.018*\"ongeluk\" + '\n",
      "  '0.018*\"richting\" + 0.017*\"rond\"'),\n",
      " (3,\n",
      "  '0.075*\"politie\" + 0.031*\"onderzoek\" + 0.031*\"volgen\" + 0.030*\"verdacht\" + '\n",
      "  '0.026*\"advocat\" + 0.024*\"slachtoffer\" + 0.022*\"zak\" + 0.022*\"rechter\" + '\n",
      "  '0.017*\"arnhem\" + 0.013*\"justitie\"'),\n",
      " (4,\n",
      "  '0.065*\"ziekenhuis\" + 0.062*\"patient\" + 0.054*\"boer\" + 0.051*\"tilburg\" + '\n",
      "  '0.046*\"brabant\" + 0.040*\"berg\" + 0.040*\"duit\" + 0.037*\"veren\" + '\n",
      "  '0.034*\"onderwijs\" + 0.031*\"dop\"'),\n",
      " (5,\n",
      "  '0.053*\"seizoen\" + 0.050*\"wedstrijd\" + 0.048*\"club\" + 0.035*\"speler\" + '\n",
      "  '0.033*\"ploeg\" + 0.032*\"trainer\" + 0.024*\"spel\" + 0.018*\"ajax\" + '\n",
      "  '0.017*\"duel\" + 0.017*\"league\"'),\n",
      " (6,\n",
      "  '0.016*\"wet\" + 0.016*\"hel\" + 0.015*\"lat\" + 0.012*\"wer\" + 0.012*\"ander\" + '\n",
      "  '0.011*\"gat\" + 0.011*\"war\" + 0.010*\"gan\" + 0.010*\"allen\" + 0.009*\"zegt\"'),\n",
      " (7,\n",
      "  '0.023*\"euro\" + 0.015*\"volgen\" + 0.013*\"moet\" + 0.011*\"procent\" + '\n",
      "  '0.010*\"miljoen\" + 0.010*\"geld\" + 0.008*\"gat\" + 0.008*\"aantal\" + '\n",
      "  '0.007*\"mogelijk\" + 0.007*\"zegt\"'),\n",
      " (8,\n",
      "  '0.015*\"boek\" + 0.013*\"film\" + 0.013*\"programma\" + 0.012*\"lev\" + '\n",
      "  '0.011*\"verhal\" + 0.011*\"sam\" + 0.010*\"restaurant\" + 0.010*\"bekend\" + '\n",
      "  '0.010*\"ooit\" + 0.009*\"wereld\"'),\n",
      " (9,\n",
      "  '0.104*\"woning\" + 0.084*\"sint\" + 0.072*\"bewoner\" + 0.048*\"rechtbank\" + '\n",
      "  '0.042*\"antwerp\" + 0.038*\"agent\" + 0.036*\"gent\" + 0.034*\"strat\" + '\n",
      "  '0.031*\"centrum\" + 0.030*\"drug\"'),\n",
      " (10,\n",
      "  '0.051*\"nieuw\" + 0.022*\"grot\" + 0.016*\"open\" + 0.013*\"gat\" + 0.012*\"twee\" + '\n",
      "  '0.012*\"war\" + 0.011*\"stad\" + 0.011*\"stat\" + 0.011*\"plek\" + 0.010*\"eerst\"'),\n",
      " (11,\n",
      "  '0.055*\"gratis\" + 0.054*\"facebok\" + 0.044*\"schep\" + 0.043*\"breda\" + '\n",
      "  '0.038*\"prijs\" + 0.035*\"kilo\" + 0.030*\"editie\" + 0.028*\"bart\" + 0.027*\"fiet\" '\n",
      "  '+ 0.027*\"fiets\"'),\n",
      " (12,\n",
      "  '0.291*\"gemeent\" + 0.083*\"burgemeester\" + 0.064*\"wethouder\" + '\n",
      "  '0.053*\"inwoner\" + 0.034*\"verker\" + 0.017*\"fil\" + 0.017*\"client\" + '\n",
      "  '0.015*\"instell\" + 0.014*\"veilig\" + 0.013*\"bord\"'),\n",
      " (13,\n",
      "  '0.075*\"zwart\" + 0.044*\"foto\" + 0.037*\"media\" + 0.034*\"social\" + '\n",
      "  '0.026*\"dordrecht\" + 0.024*\"serie\" + 0.023*\"dat\" + 0.022*\"ochtend\" + '\n",
      "  '0.021*\"elk\" + 0.021*\"nieuw\"'),\n",
      " (14,\n",
      "  '0.039*\"mens\" + 0.025*\"onz\" + 0.024*\"werk\" + 0.020*\"mak\" + 0.020*\"vind\" + '\n",
      "  '0.017*\"hel\" + 0.015*\"go\" + 0.013*\"will\" + 0.013*\"zegt\" + 0.010*\"gan\"'),\n",
      " (15,\n",
      "  '0.133*\"peter\" + 0.075*\"kandidat\" + 0.070*\"pol\" + 0.067*\"rusland\" + '\n",
      "  '0.059*\"italie\" + 0.056*\"bayern\" + 0.040*\"achterhoek\" + 0.037*\"ben\" + '\n",
      "  '0.033*\"doetinchem\" + 0.028*\"bureau\"'),\n",
      " (16,\n",
      "  '0.168*\"kinder\" + 0.104*\"ouder\" + 0.095*\"schol\" + 0.053*\"jonger\" + '\n",
      "  '0.047*\"leerling\" + 0.033*\"jong\" + 0.027*\"apeldoorn\" + 0.017*\"china\" + '\n",
      "  '0.014*\"groep\" + 0.014*\"docent\"'),\n",
      " (17,\n",
      "  '0.128*\"nederland\" + 0.038*\"land\" + 0.037*\"rotterdam\" + 0.030*\"amsterdam\" + '\n",
      "  '0.029*\"hag\" + 0.022*\"zuid\" + 0.020*\"groep\" + 0.017*\"belgisch\" + '\n",
      "  '0.017*\"final\" + 0.016*\"international\"'),\n",
      " (18,\n",
      "  '0.037*\"vrouw\" + 0.030*\"twee\" + 0.021*\"ging\" + 0.020*\"kwam\" + 0.016*\"jarig\" '\n",
      "  '+ 0.016*\"kreg\" + 0.015*\"maand\" + 0.015*\"mann\" + 0.013*\"werd\" + '\n",
      "  '0.012*\"later\"'),\n",
      " (19,\n",
      "  '0.030*\"minister\" + 0.029*\"amerikan\" + 0.028*\"partij\" + 0.027*\"politiek\" + '\n",
      "  '0.020*\"land\" + 0.018*\"trump\" + 0.017*\"reger\" + 0.016*\"brussel\" + '\n",
      "  '0.016*\"twent\" + 0.015*\"president\"')]\n"
     ]
    }
   ],
   "source": [
    "pprint(trained_models[20]['model'].print_topics())"
   ]
  },
  {
   "cell_type": "code",
   "execution_count": 112,
   "metadata": {},
   "outputs": [],
   "source": [
    "#save mode\n",
    "n_topics=20\n",
    "lda_model=trained_models[n_topics]['model']\n",
    "lda_model.save(data_path + \"/lda_n{}\".format(n_topics))"
   ]
  },
  {
   "cell_type": "code",
   "execution_count": 120,
   "metadata": {},
   "outputs": [
    {
     "name": "stdout",
     "output_type": "stream",
     "text": [
      "Unfilt corp len: 193083\n",
      "N_topics: 20\n",
      "\n",
      "Prop: 0.1  Filtered: 31990\n",
      "Perplexity:  -16.73146169593232\n",
      "Coherence Score:  0.45182214104254664\n",
      "\n",
      "Prop: 0.2  Filtered: 32122\n",
      "Perplexity:  -15.173044541291912\n",
      "Coherence Score:  0.47786265636948\n",
      "\n",
      "Prop: 0.3  Filtered: 32152\n",
      "Perplexity:  -14.621240419532485\n",
      "Coherence Score:  0.4627324416954336\n",
      "\n",
      "Prop: 0.6  Filtered: 32162\n",
      "Perplexity:  -14.284562445336716\n",
      "Coherence Score:  0.46102121914646393\n",
      "\n",
      "\n",
      "CPU times: user 3h 21min 17s, sys: 3min 45s, total: 3h 25min 3s\n",
      "Wall time: 39min 53s\n"
     ]
    }
   ],
   "source": [
    "%%time\n",
    "# tune LDA with different dictionaries\n",
    "\n",
    "#create dictionary\n",
    "id2word = gensim.corpora.Dictionary(proc_news.values())\n",
    "\n",
    "n_topics=20\n",
    "\n",
    "print(\"Unfilt corp len: {}\".format(len(id2word)))\n",
    "print(\"N_topics: {}\".format(n_topics))\n",
    "\n",
    "\n",
    "trained_models = defaultdict(dict)\n",
    "\n",
    "for no_prop in [0.1, 0.2, 0.3, 0.6]:    \n",
    "    \n",
    "    filt_id2word = copy.copy(id2word)\n",
    "    \n",
    "    filt_id2word.filter_extremes(no_below=10, no_above=no_prop, keep_n=100000)\n",
    "    print(\"\\nProp: {}  Filtered: {}\".format(no_prop, len(filt_id2word)))\n",
    "\n",
    "    #create corpus\n",
    "    corpus = [filt_id2word.doc2bow(text) for text in proc_news.values()]\n",
    "    \n",
    "    \n",
    "    lda_model = gensim.models.ldamodel.LdaModel(corpus=corpus,\n",
    "                                               id2word=filt_id2word,\n",
    "                                               num_topics=n_topics, \n",
    "                                               random_state=100,\n",
    "                                               update_every=1,\n",
    "                                               chunksize=100,\n",
    "                                               passes=10,\n",
    "                                               alpha='auto',\n",
    "                                               per_word_topics=True)\n",
    "    \n",
    "    # Compute Perplexity\n",
    "    pp = lda_model.log_perplexity(corpus)\n",
    "    \n",
    "    print('Perplexity: ', pp)  # a measure of how good the model is. lower the better.\n",
    "    \n",
    "    # Compute Coherence Score\n",
    "    coherence_model_lda = CoherenceModel(model=lda_model, texts=proc_news.values(), dictionary=filt_id2word, coherence='c_v')\n",
    "    coherence_lda = coherence_model_lda.get_coherence()\n",
    "    \n",
    "    print('Coherence Score: ', coherence_lda)\n",
    "    \n",
    "    #save    \n",
    "    trained_models[no_prop]['model'] = lda_model\n",
    "    trained_models[no_prop]['pp'] = pp\n",
    "    trained_models[no_prop]['coh'] = coherence_lda  \n",
    "\n",
    "print(\"\\n\")\n",
    "\n"
   ]
  },
  {
   "cell_type": "code",
   "execution_count": 123,
   "metadata": {},
   "outputs": [],
   "source": [
    "\n",
    "    "
   ]
  },
  {
   "cell_type": "markdown",
   "metadata": {},
   "source": [
    "### Save best model"
   ]
  },
  {
   "cell_type": "code",
   "execution_count": 124,
   "metadata": {},
   "outputs": [],
   "source": [
    "# save best model\n",
    "n_topic=20\n",
    "no_above=0.2\n",
    "\n",
    "id2word.filter_extremes(no_below=10, no_above=no_above, keep_n=100000)\n",
    "  \n",
    "#create corpus\n",
    "corpus = [id2word.doc2bow(text) for text in proc_news.values()]\n",
    "\n",
    "lda_model=trained_models[no_above]['model']\n",
    "lda_model.save(data_path + \"/lda_n{}\".format(n_topics))"
   ]
  },
  {
   "cell_type": "code",
   "execution_count": 88,
   "metadata": {},
   "outputs": [],
   "source": [
    "# # Compute Perplexity\n",
    "# print('\\nPerplexity: ', lda_model.log_perplexity(corpus))  # a measure of how good the model is. lower the better.\n",
    "\n",
    "# # Compute Coherence Score\n",
    "# coherence_model_lda = CoherenceModel(model=lda_model, texts=proc_news.values(), dictionary=id2word, coherence='c_v')\n",
    "# coherence_lda = coherence_model_lda.get_coherence()\n",
    "# print('\\nCoherence Score: ', coherence_lda)"
   ]
  },
  {
   "cell_type": "markdown",
   "metadata": {},
   "source": [
    "### load trained LDA mode"
   ]
  },
  {
   "cell_type": "code",
   "execution_count": 10,
   "metadata": {},
   "outputs": [
    {
     "data": {
      "text/plain": [
       "[(0,\n",
       "  '0.157*\"kinder\" + 0.097*\"ouder\" + 0.088*\"schol\" + 0.050*\"jonger\" + 0.044*\"leerling\" + 0.042*\"brand\" + 0.029*\"jong\" + 0.029*\"facebok\" + 0.023*\"schep\" + 0.019*\"brandwer\"'),\n",
       " (1,\n",
       "  '0.019*\"kreg\" + 0.016*\"moest\" + 0.015*\"maand\" + 0.014*\"later\" + 0.013*\"stond\" + 0.011*\"had\" + 0.011*\"terug\" + 0.010*\"eerder\" + 0.010*\"vorig\" + 0.009*\"wild\"'),\n",
       " (2,\n",
       "  '0.123*\"nederland\" + 0.058*\"procent\" + 0.056*\"land\" + 0.024*\"vlam\" + 0.021*\"belgie\" + 0.016*\"aantal\" + 0.016*\"brussel\" + 0.015*\"universiteit\" + 0.015*\"cijfer\" + 0.014*\"europa\"'),\n",
       " (3,\n",
       "  '0.093*\"vrouw\" + 0.036*\"foto\" + 0.034*\"vader\" + 0.030*\"moeder\" + 0.027*\"boek\" + 0.027*\"familie\" + 0.024*\"film\" + 0.022*\"dochter\" + 0.021*\"lev\" + 0.018*\"verhal\"'),\n",
       " (4,\n",
       "  '0.069*\"gemeent\" + 0.018*\"woning\" + 0.018*\"stad\" + 0.017*\"burgemeester\" + 0.016*\"bewoner\" + 0.015*\"plek\" + 0.012*\"meter\" + 0.012*\"inwoner\" + 0.012*\"rotterdam\" + 0.012*\"project\"'),\n",
       " (5,\n",
       "  '0.046*\"restaurant\" + 0.043*\"muziek\" + 0.035*\"nummer\" + 0.032*\"programma\" + 0.027*\"gast\" + 0.026*\"goud\" + 0.025*\"band\" + 0.022*\"show\" + 0.020*\"john\" + 0.019*\"fan\"'),\n",
       " (6,\n",
       "  '0.106*\"euro\" + 0.047*\"miljoen\" + 0.042*\"geld\" + 0.030*\"winkel\" + 0.029*\"bedrijf\" + 0.028*\"kost\" + 0.022*\"betal\" + 0.019*\"markt\" + 0.018*\"klant\" + 0.018*\"verkop\"'),\n",
       " (7,\n",
       "  '0.021*\"november\" + 0.020*\"deur\" + 0.018*\"vanaf\" + 0.018*\"sint\" + 0.017*\"december\" + 0.017*\"zwart\" + 0.017*\"rond\" + 0.016*\"plat\" + 0.015*\"zaterdag\" + 0.015*\"open\"'),\n",
       " (8,\n",
       "  '0.011*\"minder\" + 0.010*\"zoal\" + 0.010*\"nodig\" + 0.008*\"sted\" + 0.008*\"houd\" + 0.008*\"blijft\" + 0.008*\"bijvoorbeeld\" + 0.008*\"gebruik\" + 0.008*\"del\" + 0.007*\"vooral\"'),\n",
       " (9,\n",
       "  '0.064*\"wedstrijd\" + 0.061*\"club\" + 0.045*\"speler\" + 0.041*\"ploeg\" + 0.041*\"trainer\" + 0.031*\"minut\" + 0.023*\"ajax\" + 0.023*\"seizoen\" + 0.022*\"duel\" + 0.022*\"league\"'),\n",
       " (10,\n",
       "  '0.059*\"amsterdam\" + 0.048*\"utrecht\" + 0.043*\"willem\" + 0.040*\"wijk\" + 0.039*\"broer\" + 0.038*\"tilburg\" + 0.026*\"breda\" + 0.024*\"dop\" + 0.022*\"brabant\" + 0.021*\"evenement\"'),\n",
       " (11,\n",
       "  '0.063*\"student\" + 0.059*\"eindhov\" + 0.056*\"twent\" + 0.049*\"ensched\" + 0.043*\"zwoll\" + 0.035*\"gered\" + 0.034*\"kamp\" + 0.033*\"vlucht\" + 0.032*\"hotel\" + 0.031*\"client\"'),\n",
       " (12,\n",
       "  '0.062*\"politie\" + 0.024*\"onderzoek\" + 0.023*\"verdacht\" + 0.020*\"advocat\" + 0.019*\"werd\" + 0.016*\"rechter\" + 0.015*\"meld\" + 0.014*\"jarig\" + 0.012*\"mann\" + 0.011*\"bestuurder\"'),\n",
       " (13,\n",
       "  '0.015*\"echt\" + 0.013*\"vind\" + 0.012*\"elkar\" + 0.010*\"gewon\" + 0.010*\"nooit\" + 0.009*\"eig\" + 0.009*\"denk\" + 0.009*\"mooi\" + 0.009*\"lev\" + 0.008*\"even\"'),\n",
       " (14,\n",
       "  '0.074*\"ziekenhuis\" + 0.069*\"patient\" + 0.044*\"berg\" + 0.031*\"behandel\" + 0.031*\"schot\" + 0.026*\"ziekt\" + 0.026*\"paul\" + 0.025*\"roosendal\" + 0.023*\"medisch\" + 0.023*\"voorsprong\"'),\n",
       " (15,\n",
       "  '0.121*\"auto\" + 0.064*\"rijd\" + 0.052*\"kilometer\" + 0.049*\"hag\" + 0.041*\"verker\" + 0.040*\"antwerp\" + 0.032*\"prin\" + 0.029*\"fietser\" + 0.027*\"snelheid\" + 0.027*\"wagen\"'),\n",
       " (16,\n",
       "  '0.018*\"wethouder\" + 0.015*\"onderzoek\" + 0.015*\"problem\" + 0.014*\"vrag\" + 0.012*\"stelt\" + 0.012*\"rad\" + 0.012*\"will\" + 0.012*\"boer\" + 0.011*\"regel\" + 0.011*\"eerder\"'),\n",
       " (17,\n",
       "  '0.036*\"amerikan\" + 0.031*\"slachtoffer\" + 0.026*\"dod\" + 0.026*\"trump\" + 0.026*\"gewond\" + 0.023*\"ongeluk\" + 0.021*\"raakt\" + 0.021*\"ongeval\" + 0.019*\"geraakt\" + 0.018*\"auto\"'),\n",
       " (18,\n",
       "  '0.029*\"twed\" + 0.025*\"seizoen\" + 0.021*\"spel\" + 0.020*\"punt\" + 0.018*\"team\" + 0.017*\"speeld\" + 0.014*\"laatst\" + 0.014*\"derd\" + 0.014*\"klas\" + 0.013*\"winn\"'),\n",
       " (19,\n",
       "  '0.059*\"partij\" + 0.041*\"politiek\" + 0.026*\"reger\" + 0.021*\"minister\" + 0.017*\"steun\" + 0.016*\"kandidat\" + 0.016*\"pvda\" + 0.014*\"verkiez\" + 0.013*\"premier\" + 0.012*\"voorzitter\"')]"
      ]
     },
     "execution_count": 10,
     "metadata": {},
     "output_type": "execute_result"
    }
   ],
   "source": [
    "lda_model = gensim.models.ldamodel.LdaModel.load(data_path + \"/lda_n{}\".format(20))\n",
    "lda_model.print_topics()"
   ]
  },
  {
   "cell_type": "code",
   "execution_count": 20,
   "metadata": {},
   "outputs": [
    {
     "data": {
      "text/plain": [
       "52"
      ]
     },
     "execution_count": 20,
     "metadata": {},
     "output_type": "execute_result"
    }
   ],
   "source": [
    "len(corpus[0])"
   ]
  },
  {
   "cell_type": "code",
   "execution_count": 21,
   "metadata": {},
   "outputs": [
    {
     "data": {
      "text/plain": [
       "[(8, 0.638949),\n",
       " (6, 0.08247648),\n",
       " (13, 0.054764222),\n",
       " (7, 0.052701205),\n",
       " (4, 0.0485643),\n",
       " (16, 0.041244186),\n",
       " (1, 0.027794726)]"
      ]
     },
     "execution_count": 21,
     "metadata": {},
     "output_type": "execute_result"
    }
   ],
   "source": [
    "sorted(lda_model[corpus[0]][0], key= lambda tup: tup[1], reverse=True)"
   ]
  },
  {
   "cell_type": "code",
   "execution_count": 22,
   "metadata": {},
   "outputs": [
    {
     "name": "stdout",
     "output_type": "stream",
     "text": [
      "Topic: 8 Score: 0.6389 \t Keywords: 0.011*\"minder\" + 0.010*\"zoal\" + 0.010*\"nodig\" + 0.008*\"sted\" + 0.008*\"houd\"\n",
      "Topic: 6 Score: 0.0825 \t Keywords: 0.106*\"euro\" + 0.047*\"miljoen\" + 0.042*\"geld\" + 0.030*\"winkel\" + 0.029*\"bedrijf\"\n",
      "Topic: 13 Score: 0.0548 \t Keywords: 0.015*\"echt\" + 0.013*\"vind\" + 0.012*\"elkar\" + 0.010*\"gewon\" + 0.010*\"nooit\"\n",
      "Topic: 7 Score: 0.0527 \t Keywords: 0.021*\"november\" + 0.020*\"deur\" + 0.018*\"vanaf\" + 0.018*\"sint\" + 0.017*\"december\"\n",
      "Topic: 4 Score: 0.0486 \t Keywords: 0.069*\"gemeent\" + 0.018*\"woning\" + 0.018*\"stad\" + 0.017*\"burgemeester\" + 0.016*\"bewoner\"\n",
      "Topic: 16 Score: 0.0412 \t Keywords: 0.018*\"wethouder\" + 0.015*\"onderzoek\" + 0.015*\"problem\" + 0.014*\"vrag\" + 0.012*\"stelt\"\n",
      "Topic: 1 Score: 0.0278 \t Keywords: 0.019*\"kreg\" + 0.016*\"moest\" + 0.015*\"maand\" + 0.014*\"later\" + 0.013*\"stond\"\n"
     ]
    }
   ],
   "source": [
    "for idx, score in sorted(lda_model[corpus[0]][0], key= lambda tup: tup[1], reverse=True):\n",
    "    print(\"Topic: {} Score: {:.4f} \\t Keywords: {}\".format(idx, score, lda_model.print_topic(idx, 5)))"
   ]
  },
  {
   "cell_type": "code",
   "execution_count": 25,
   "metadata": {},
   "outputs": [
    {
     "name": "stdout",
     "output_type": "stream",
     "text": [
      "Topic: 8 Score: 0.6389 | Keywords: 0.011*\"minder\" + 0.010*\"zoal\" + 0.010*\"nodig\" + 0.008*\"sted\" + 0.008*\"houd\"\n",
      "Topic: 6 Score: 0.0825 | Keywords: 0.106*\"euro\" + 0.047*\"miljoen\" + 0.042*\"geld\" + 0.030*\"winkel\" + 0.029*\"bedrijf\"\n",
      "Topic: 13 Score: 0.0548 | Keywords: 0.015*\"echt\" + 0.013*\"vind\" + 0.012*\"elkar\" + 0.010*\"gewon\" + 0.010*\"nooit\"\n",
      "Topic: 7 Score: 0.0527 | Keywords: 0.021*\"november\" + 0.020*\"deur\" + 0.018*\"vanaf\" + 0.018*\"sint\" + 0.017*\"december\"\n",
      "Topic: 4 Score: 0.0486 | Keywords: 0.069*\"gemeent\" + 0.018*\"woning\" + 0.018*\"stad\" + 0.017*\"burgemeester\" + 0.016*\"bewoner\"\n",
      "Topic: 16 Score: 0.0412 | Keywords: 0.018*\"wethouder\" + 0.015*\"onderzoek\" + 0.015*\"problem\" + 0.014*\"vrag\" + 0.012*\"stelt\"\n",
      "Topic: 1 Score: 0.0278 | Keywords: 0.019*\"kreg\" + 0.016*\"moest\" + 0.015*\"maand\" + 0.014*\"later\" + 0.013*\"stond\"\n",
      "std 0.2062201201915741\n",
      "Entr 1.1961185932159424 \n",
      "\n",
      "Topic: 7 Score: 0.3792 | Keywords: 0.021*\"november\" + 0.020*\"deur\" + 0.018*\"vanaf\" + 0.018*\"sint\" + 0.017*\"december\"\n",
      "Topic: 8 Score: 0.1787 | Keywords: 0.011*\"minder\" + 0.010*\"zoal\" + 0.010*\"nodig\" + 0.008*\"sted\" + 0.008*\"houd\"\n",
      "Topic: 13 Score: 0.1157 | Keywords: 0.015*\"echt\" + 0.013*\"vind\" + 0.012*\"elkar\" + 0.010*\"gewon\" + 0.010*\"nooit\"\n",
      "Topic: 0 Score: 0.1079 | Keywords: 0.157*\"kinder\" + 0.097*\"ouder\" + 0.088*\"schol\" + 0.050*\"jonger\" + 0.044*\"leerling\"\n",
      "Topic: 1 Score: 0.0618 | Keywords: 0.019*\"kreg\" + 0.016*\"moest\" + 0.015*\"maand\" + 0.014*\"later\" + 0.013*\"stond\"\n",
      "Topic: 18 Score: 0.0514 | Keywords: 0.029*\"twed\" + 0.025*\"seizoen\" + 0.021*\"spel\" + 0.020*\"punt\" + 0.018*\"team\"\n",
      "Topic: 5 Score: 0.0430 | Keywords: 0.046*\"restaurant\" + 0.043*\"muziek\" + 0.035*\"nummer\" + 0.032*\"programma\" + 0.027*\"gast\"\n",
      "Topic: 16 Score: 0.0276 | Keywords: 0.018*\"wethouder\" + 0.015*\"onderzoek\" + 0.015*\"problem\" + 0.014*\"vrag\" + 0.012*\"stelt\"\n",
      "Topic: 4 Score: 0.0106 | Keywords: 0.069*\"gemeent\" + 0.018*\"woning\" + 0.018*\"stad\" + 0.017*\"burgemeester\" + 0.016*\"bewoner\"\n",
      "std 0.10757321119308472\n",
      "Entr 1.791713833808899 \n",
      "\n",
      "Topic: 15 Score: 0.2188 | Keywords: 0.121*\"auto\" + 0.064*\"rijd\" + 0.052*\"kilometer\" + 0.049*\"hag\" + 0.041*\"verker\"\n",
      "Topic: 7 Score: 0.1311 | Keywords: 0.021*\"november\" + 0.020*\"deur\" + 0.018*\"vanaf\" + 0.018*\"sint\" + 0.017*\"december\"\n",
      "Topic: 4 Score: 0.1275 | Keywords: 0.069*\"gemeent\" + 0.018*\"woning\" + 0.018*\"stad\" + 0.017*\"burgemeester\" + 0.016*\"bewoner\"\n",
      "Topic: 8 Score: 0.1095 | Keywords: 0.011*\"minder\" + 0.010*\"zoal\" + 0.010*\"nodig\" + 0.008*\"sted\" + 0.008*\"houd\"\n",
      "Topic: 1 Score: 0.0979 | Keywords: 0.019*\"kreg\" + 0.016*\"moest\" + 0.015*\"maand\" + 0.014*\"later\" + 0.013*\"stond\"\n",
      "Topic: 13 Score: 0.0605 | Keywords: 0.015*\"echt\" + 0.013*\"vind\" + 0.012*\"elkar\" + 0.010*\"gewon\" + 0.010*\"nooit\"\n",
      "Topic: 19 Score: 0.0529 | Keywords: 0.059*\"partij\" + 0.041*\"politiek\" + 0.026*\"reger\" + 0.021*\"minister\" + 0.017*\"steun\"\n",
      "Topic: 16 Score: 0.0509 | Keywords: 0.018*\"wethouder\" + 0.015*\"onderzoek\" + 0.015*\"problem\" + 0.014*\"vrag\" + 0.012*\"stelt\"\n",
      "Topic: 12 Score: 0.0359 | Keywords: 0.062*\"politie\" + 0.024*\"onderzoek\" + 0.023*\"verdacht\" + 0.020*\"advocat\" + 0.019*\"werd\"\n",
      "Topic: 18 Score: 0.0333 | Keywords: 0.029*\"twed\" + 0.025*\"seizoen\" + 0.021*\"spel\" + 0.020*\"punt\" + 0.018*\"team\"\n",
      "Topic: 9 Score: 0.0266 | Keywords: 0.064*\"wedstrijd\" + 0.061*\"club\" + 0.045*\"speler\" + 0.041*\"ploeg\" + 0.041*\"trainer\"\n",
      "Topic: 6 Score: 0.0106 | Keywords: 0.106*\"euro\" + 0.047*\"miljoen\" + 0.042*\"geld\" + 0.030*\"winkel\" + 0.029*\"bedrijf\"\n",
      "std 0.05706564337015152\n",
      "Entr 2.241574287414551 \n",
      "\n",
      "Topic: 1 Score: 0.2210 | Keywords: 0.019*\"kreg\" + 0.016*\"moest\" + 0.015*\"maand\" + 0.014*\"later\" + 0.013*\"stond\"\n",
      "Topic: 8 Score: 0.1895 | Keywords: 0.011*\"minder\" + 0.010*\"zoal\" + 0.010*\"nodig\" + 0.008*\"sted\" + 0.008*\"houd\"\n",
      "Topic: 13 Score: 0.1515 | Keywords: 0.015*\"echt\" + 0.013*\"vind\" + 0.012*\"elkar\" + 0.010*\"gewon\" + 0.010*\"nooit\"\n",
      "Topic: 16 Score: 0.0971 | Keywords: 0.018*\"wethouder\" + 0.015*\"onderzoek\" + 0.015*\"problem\" + 0.014*\"vrag\" + 0.012*\"stelt\"\n",
      "Topic: 7 Score: 0.0802 | Keywords: 0.021*\"november\" + 0.020*\"deur\" + 0.018*\"vanaf\" + 0.018*\"sint\" + 0.017*\"december\"\n",
      "Topic: 18 Score: 0.0406 | Keywords: 0.029*\"twed\" + 0.025*\"seizoen\" + 0.021*\"spel\" + 0.020*\"punt\" + 0.018*\"team\"\n",
      "Topic: 3 Score: 0.0374 | Keywords: 0.093*\"vrouw\" + 0.036*\"foto\" + 0.034*\"vader\" + 0.030*\"moeder\" + 0.027*\"boek\"\n",
      "Topic: 19 Score: 0.0359 | Keywords: 0.059*\"partij\" + 0.041*\"politiek\" + 0.026*\"reger\" + 0.021*\"minister\" + 0.017*\"steun\"\n",
      "Topic: 9 Score: 0.0340 | Keywords: 0.064*\"wedstrijd\" + 0.061*\"club\" + 0.045*\"speler\" + 0.041*\"ploeg\" + 0.041*\"trainer\"\n",
      "Topic: 4 Score: 0.0231 | Keywords: 0.069*\"gemeent\" + 0.018*\"woning\" + 0.018*\"stad\" + 0.017*\"burgemeester\" + 0.016*\"bewoner\"\n",
      "Topic: 12 Score: 0.0171 | Keywords: 0.062*\"politie\" + 0.024*\"onderzoek\" + 0.023*\"verdacht\" + 0.020*\"advocat\" + 0.019*\"werd\"\n",
      "Topic: 6 Score: 0.0151 | Keywords: 0.106*\"euro\" + 0.047*\"miljoen\" + 0.042*\"geld\" + 0.030*\"winkel\" + 0.029*\"bedrijf\"\n",
      "Topic: 2 Score: 0.0120 | Keywords: 0.123*\"nederland\" + 0.058*\"procent\" + 0.056*\"land\" + 0.024*\"vlam\" + 0.021*\"belgie\"\n",
      "std 0.06802978366613388\n",
      "Entr 2.1785776615142822 \n",
      "\n",
      "Topic: 7 Score: 0.1695 | Keywords: 0.021*\"november\" + 0.020*\"deur\" + 0.018*\"vanaf\" + 0.018*\"sint\" + 0.017*\"december\"\n",
      "Topic: 16 Score: 0.1652 | Keywords: 0.018*\"wethouder\" + 0.015*\"onderzoek\" + 0.015*\"problem\" + 0.014*\"vrag\" + 0.012*\"stelt\"\n",
      "Topic: 13 Score: 0.1442 | Keywords: 0.015*\"echt\" + 0.013*\"vind\" + 0.012*\"elkar\" + 0.010*\"gewon\" + 0.010*\"nooit\"\n",
      "Topic: 1 Score: 0.1396 | Keywords: 0.019*\"kreg\" + 0.016*\"moest\" + 0.015*\"maand\" + 0.014*\"later\" + 0.013*\"stond\"\n",
      "Topic: 8 Score: 0.0920 | Keywords: 0.011*\"minder\" + 0.010*\"zoal\" + 0.010*\"nodig\" + 0.008*\"sted\" + 0.008*\"houd\"\n",
      "Topic: 6 Score: 0.0525 | Keywords: 0.106*\"euro\" + 0.047*\"miljoen\" + 0.042*\"geld\" + 0.030*\"winkel\" + 0.029*\"bedrijf\"\n",
      "Topic: 2 Score: 0.0403 | Keywords: 0.123*\"nederland\" + 0.058*\"procent\" + 0.056*\"land\" + 0.024*\"vlam\" + 0.021*\"belgie\"\n",
      "Topic: 5 Score: 0.0358 | Keywords: 0.046*\"restaurant\" + 0.043*\"muziek\" + 0.035*\"nummer\" + 0.032*\"programma\" + 0.027*\"gast\"\n",
      "Topic: 4 Score: 0.0351 | Keywords: 0.069*\"gemeent\" + 0.018*\"woning\" + 0.018*\"stad\" + 0.017*\"burgemeester\" + 0.016*\"bewoner\"\n",
      "Topic: 9 Score: 0.0306 | Keywords: 0.064*\"wedstrijd\" + 0.061*\"club\" + 0.045*\"speler\" + 0.041*\"ploeg\" + 0.041*\"trainer\"\n",
      "Topic: 12 Score: 0.0195 | Keywords: 0.062*\"politie\" + 0.024*\"onderzoek\" + 0.023*\"verdacht\" + 0.020*\"advocat\" + 0.019*\"werd\"\n",
      "Topic: 18 Score: 0.0154 | Keywords: 0.029*\"twed\" + 0.025*\"seizoen\" + 0.021*\"spel\" + 0.020*\"punt\" + 0.018*\"team\"\n",
      "Topic: 3 Score: 0.0106 | Keywords: 0.093*\"vrouw\" + 0.036*\"foto\" + 0.034*\"vader\" + 0.030*\"moeder\" + 0.027*\"boek\"\n",
      "Topic: 10 Score: 0.0106 | Keywords: 0.059*\"amsterdam\" + 0.048*\"utrecht\" + 0.043*\"willem\" + 0.040*\"wijk\" + 0.039*\"broer\"\n",
      "std 0.0582406185567379\n",
      "Entr 2.2881782054901123 \n",
      "\n",
      "Topic: 1 Score: 0.1882 | Keywords: 0.019*\"kreg\" + 0.016*\"moest\" + 0.015*\"maand\" + 0.014*\"later\" + 0.013*\"stond\"\n",
      "Topic: 16 Score: 0.1723 | Keywords: 0.018*\"wethouder\" + 0.015*\"onderzoek\" + 0.015*\"problem\" + 0.014*\"vrag\" + 0.012*\"stelt\"\n",
      "Topic: 18 Score: 0.1347 | Keywords: 0.029*\"twed\" + 0.025*\"seizoen\" + 0.021*\"spel\" + 0.020*\"punt\" + 0.018*\"team\"\n",
      "Topic: 8 Score: 0.1018 | Keywords: 0.011*\"minder\" + 0.010*\"zoal\" + 0.010*\"nodig\" + 0.008*\"sted\" + 0.008*\"houd\"\n",
      "Topic: 17 Score: 0.0889 | Keywords: 0.036*\"amerikan\" + 0.031*\"slachtoffer\" + 0.026*\"dod\" + 0.026*\"trump\" + 0.026*\"gewond\"\n",
      "Topic: 13 Score: 0.0800 | Keywords: 0.015*\"echt\" + 0.013*\"vind\" + 0.012*\"elkar\" + 0.010*\"gewon\" + 0.010*\"nooit\"\n",
      "Topic: 4 Score: 0.0463 | Keywords: 0.069*\"gemeent\" + 0.018*\"woning\" + 0.018*\"stad\" + 0.017*\"burgemeester\" + 0.016*\"bewoner\"\n",
      "Topic: 7 Score: 0.0446 | Keywords: 0.021*\"november\" + 0.020*\"deur\" + 0.018*\"vanaf\" + 0.018*\"sint\" + 0.017*\"december\"\n",
      "Topic: 2 Score: 0.0409 | Keywords: 0.123*\"nederland\" + 0.058*\"procent\" + 0.056*\"land\" + 0.024*\"vlam\" + 0.021*\"belgie\"\n",
      "Topic: 0 Score: 0.0307 | Keywords: 0.157*\"kinder\" + 0.097*\"ouder\" + 0.088*\"schol\" + 0.050*\"jonger\" + 0.044*\"leerling\"\n",
      "Topic: 6 Score: 0.0260 | Keywords: 0.106*\"euro\" + 0.047*\"miljoen\" + 0.042*\"geld\" + 0.030*\"winkel\" + 0.029*\"bedrijf\"\n",
      "Topic: 11 Score: 0.0123 | Keywords: 0.063*\"student\" + 0.059*\"eindhov\" + 0.056*\"twent\" + 0.049*\"ensched\" + 0.043*\"zwoll\"\n",
      "Topic: 12 Score: 0.0105 | Keywords: 0.062*\"politie\" + 0.024*\"onderzoek\" + 0.023*\"verdacht\" + 0.020*\"advocat\" + 0.019*\"werd\"\n",
      "std 0.05693678930401802\n",
      "Entr 2.282151699066162 \n",
      "\n",
      "Topic: 1 Score: 0.1629 | Keywords: 0.019*\"kreg\" + 0.016*\"moest\" + 0.015*\"maand\" + 0.014*\"later\" + 0.013*\"stond\"\n",
      "Topic: 8 Score: 0.1423 | Keywords: 0.011*\"minder\" + 0.010*\"zoal\" + 0.010*\"nodig\" + 0.008*\"sted\" + 0.008*\"houd\"\n",
      "Topic: 7 Score: 0.1345 | Keywords: 0.021*\"november\" + 0.020*\"deur\" + 0.018*\"vanaf\" + 0.018*\"sint\" + 0.017*\"december\"\n",
      "Topic: 6 Score: 0.1131 | Keywords: 0.106*\"euro\" + 0.047*\"miljoen\" + 0.042*\"geld\" + 0.030*\"winkel\" + 0.029*\"bedrijf\"\n",
      "Topic: 13 Score: 0.1131 | Keywords: 0.015*\"echt\" + 0.013*\"vind\" + 0.012*\"elkar\" + 0.010*\"gewon\" + 0.010*\"nooit\"\n",
      "Topic: 18 Score: 0.0790 | Keywords: 0.029*\"twed\" + 0.025*\"seizoen\" + 0.021*\"spel\" + 0.020*\"punt\" + 0.018*\"team\"\n",
      "Topic: 12 Score: 0.0706 | Keywords: 0.062*\"politie\" + 0.024*\"onderzoek\" + 0.023*\"verdacht\" + 0.020*\"advocat\" + 0.019*\"werd\"\n",
      "Topic: 2 Score: 0.0633 | Keywords: 0.123*\"nederland\" + 0.058*\"procent\" + 0.056*\"land\" + 0.024*\"vlam\" + 0.021*\"belgie\"\n",
      "Topic: 3 Score: 0.0348 | Keywords: 0.093*\"vrouw\" + 0.036*\"foto\" + 0.034*\"vader\" + 0.030*\"moeder\" + 0.027*\"boek\"\n",
      "Topic: 5 Score: 0.0249 | Keywords: 0.046*\"restaurant\" + 0.043*\"muziek\" + 0.035*\"nummer\" + 0.032*\"programma\" + 0.027*\"gast\"\n",
      "Topic: 16 Score: 0.0243 | Keywords: 0.018*\"wethouder\" + 0.015*\"onderzoek\" + 0.015*\"problem\" + 0.014*\"vrag\" + 0.012*\"stelt\"\n",
      "Topic: 17 Score: 0.0115 | Keywords: 0.036*\"amerikan\" + 0.031*\"slachtoffer\" + 0.026*\"dod\" + 0.026*\"trump\" + 0.026*\"gewond\"\n",
      "Topic: 4 Score: 0.0102 | Keywords: 0.069*\"gemeent\" + 0.018*\"woning\" + 0.018*\"stad\" + 0.017*\"burgemeester\" + 0.016*\"bewoner\"\n",
      "std 0.05097976326942444\n",
      "Entr 2.3160746097564697 \n",
      "\n",
      "Topic: 13 Score: 0.3065 | Keywords: 0.015*\"echt\" + 0.013*\"vind\" + 0.012*\"elkar\" + 0.010*\"gewon\" + 0.010*\"nooit\"\n",
      "Topic: 1 Score: 0.1810 | Keywords: 0.019*\"kreg\" + 0.016*\"moest\" + 0.015*\"maand\" + 0.014*\"later\" + 0.013*\"stond\"\n",
      "Topic: 8 Score: 0.1206 | Keywords: 0.011*\"minder\" + 0.010*\"zoal\" + 0.010*\"nodig\" + 0.008*\"sted\" + 0.008*\"houd\"\n",
      "Topic: 4 Score: 0.0647 | Keywords: 0.069*\"gemeent\" + 0.018*\"woning\" + 0.018*\"stad\" + 0.017*\"burgemeester\" + 0.016*\"bewoner\"\n",
      "Topic: 7 Score: 0.0607 | Keywords: 0.021*\"november\" + 0.020*\"deur\" + 0.018*\"vanaf\" + 0.018*\"sint\" + 0.017*\"december\"\n",
      "Topic: 6 Score: 0.0581 | Keywords: 0.106*\"euro\" + 0.047*\"miljoen\" + 0.042*\"geld\" + 0.030*\"winkel\" + 0.029*\"bedrijf\"\n",
      "Topic: 3 Score: 0.0493 | Keywords: 0.093*\"vrouw\" + 0.036*\"foto\" + 0.034*\"vader\" + 0.030*\"moeder\" + 0.027*\"boek\"\n",
      "Topic: 18 Score: 0.0294 | Keywords: 0.029*\"twed\" + 0.025*\"seizoen\" + 0.021*\"spel\" + 0.020*\"punt\" + 0.018*\"team\"\n",
      "Topic: 16 Score: 0.0227 | Keywords: 0.018*\"wethouder\" + 0.015*\"onderzoek\" + 0.015*\"problem\" + 0.014*\"vrag\" + 0.012*\"stelt\"\n",
      "Topic: 0 Score: 0.0187 | Keywords: 0.157*\"kinder\" + 0.097*\"ouder\" + 0.088*\"schol\" + 0.050*\"jonger\" + 0.044*\"leerling\"\n",
      "Topic: 12 Score: 0.0181 | Keywords: 0.062*\"politie\" + 0.024*\"onderzoek\" + 0.023*\"verdacht\" + 0.020*\"advocat\" + 0.019*\"werd\"\n",
      "Topic: 17 Score: 0.0172 | Keywords: 0.036*\"amerikan\" + 0.031*\"slachtoffer\" + 0.026*\"dod\" + 0.026*\"trump\" + 0.026*\"gewond\"\n",
      "Topic: 14 Score: 0.0169 | Keywords: 0.074*\"ziekenhuis\" + 0.069*\"patient\" + 0.044*\"berg\" + 0.031*\"behandel\" + 0.031*\"schot\"\n",
      "Topic: 5 Score: 0.0106 | Keywords: 0.046*\"restaurant\" + 0.043*\"muziek\" + 0.035*\"nummer\" + 0.032*\"programma\" + 0.027*\"gast\"\n",
      "std 0.08010588586330414\n",
      "Entr 2.1410439014434814 \n",
      "\n"
     ]
    },
    {
     "name": "stdout",
     "output_type": "stream",
     "text": [
      "Topic: 13 Score: 0.2956 | Keywords: 0.015*\"echt\" + 0.013*\"vind\" + 0.012*\"elkar\" + 0.010*\"gewon\" + 0.010*\"nooit\"\n",
      "Topic: 17 Score: 0.1668 | Keywords: 0.036*\"amerikan\" + 0.031*\"slachtoffer\" + 0.026*\"dod\" + 0.026*\"trump\" + 0.026*\"gewond\"\n",
      "Topic: 16 Score: 0.1142 | Keywords: 0.018*\"wethouder\" + 0.015*\"onderzoek\" + 0.015*\"problem\" + 0.014*\"vrag\" + 0.012*\"stelt\"\n",
      "Topic: 8 Score: 0.0940 | Keywords: 0.011*\"minder\" + 0.010*\"zoal\" + 0.010*\"nodig\" + 0.008*\"sted\" + 0.008*\"houd\"\n",
      "Topic: 18 Score: 0.0599 | Keywords: 0.029*\"twed\" + 0.025*\"seizoen\" + 0.021*\"spel\" + 0.020*\"punt\" + 0.018*\"team\"\n",
      "Topic: 6 Score: 0.0596 | Keywords: 0.106*\"euro\" + 0.047*\"miljoen\" + 0.042*\"geld\" + 0.030*\"winkel\" + 0.029*\"bedrijf\"\n",
      "Topic: 1 Score: 0.0569 | Keywords: 0.019*\"kreg\" + 0.016*\"moest\" + 0.015*\"maand\" + 0.014*\"later\" + 0.013*\"stond\"\n",
      "Topic: 19 Score: 0.0342 | Keywords: 0.059*\"partij\" + 0.041*\"politiek\" + 0.026*\"reger\" + 0.021*\"minister\" + 0.017*\"steun\"\n",
      "Topic: 2 Score: 0.0304 | Keywords: 0.123*\"nederland\" + 0.058*\"procent\" + 0.056*\"land\" + 0.024*\"vlam\" + 0.021*\"belgie\"\n",
      "Topic: 4 Score: 0.0221 | Keywords: 0.069*\"gemeent\" + 0.018*\"woning\" + 0.018*\"stad\" + 0.017*\"burgemeester\" + 0.016*\"bewoner\"\n",
      "Topic: 7 Score: 0.0206 | Keywords: 0.021*\"november\" + 0.020*\"deur\" + 0.018*\"vanaf\" + 0.018*\"sint\" + 0.017*\"december\"\n",
      "Topic: 0 Score: 0.0173 | Keywords: 0.157*\"kinder\" + 0.097*\"ouder\" + 0.088*\"schol\" + 0.050*\"jonger\" + 0.044*\"leerling\"\n",
      "std 0.0775018110871315\n",
      "Entr 2.1171798706054688 \n",
      "\n",
      "Topic: 7 Score: 0.1488 | Keywords: 0.021*\"november\" + 0.020*\"deur\" + 0.018*\"vanaf\" + 0.018*\"sint\" + 0.017*\"december\"\n",
      "Topic: 8 Score: 0.1443 | Keywords: 0.011*\"minder\" + 0.010*\"zoal\" + 0.010*\"nodig\" + 0.008*\"sted\" + 0.008*\"houd\"\n",
      "Topic: 5 Score: 0.1440 | Keywords: 0.046*\"restaurant\" + 0.043*\"muziek\" + 0.035*\"nummer\" + 0.032*\"programma\" + 0.027*\"gast\"\n",
      "Topic: 19 Score: 0.1331 | Keywords: 0.059*\"partij\" + 0.041*\"politiek\" + 0.026*\"reger\" + 0.021*\"minister\" + 0.017*\"steun\"\n",
      "Topic: 17 Score: 0.0612 | Keywords: 0.036*\"amerikan\" + 0.031*\"slachtoffer\" + 0.026*\"dod\" + 0.026*\"trump\" + 0.026*\"gewond\"\n",
      "Topic: 13 Score: 0.0546 | Keywords: 0.015*\"echt\" + 0.013*\"vind\" + 0.012*\"elkar\" + 0.010*\"gewon\" + 0.010*\"nooit\"\n",
      "Topic: 4 Score: 0.0532 | Keywords: 0.069*\"gemeent\" + 0.018*\"woning\" + 0.018*\"stad\" + 0.017*\"burgemeester\" + 0.016*\"bewoner\"\n",
      "Topic: 0 Score: 0.0467 | Keywords: 0.157*\"kinder\" + 0.097*\"ouder\" + 0.088*\"schol\" + 0.050*\"jonger\" + 0.044*\"leerling\"\n",
      "Topic: 18 Score: 0.0411 | Keywords: 0.029*\"twed\" + 0.025*\"seizoen\" + 0.021*\"spel\" + 0.020*\"punt\" + 0.018*\"team\"\n",
      "Topic: 16 Score: 0.0394 | Keywords: 0.018*\"wethouder\" + 0.015*\"onderzoek\" + 0.015*\"problem\" + 0.014*\"vrag\" + 0.012*\"stelt\"\n",
      "Topic: 12 Score: 0.0366 | Keywords: 0.062*\"politie\" + 0.024*\"onderzoek\" + 0.023*\"verdacht\" + 0.020*\"advocat\" + 0.019*\"werd\"\n",
      "Topic: 1 Score: 0.0339 | Keywords: 0.019*\"kreg\" + 0.016*\"moest\" + 0.015*\"maand\" + 0.014*\"later\" + 0.013*\"stond\"\n",
      "Topic: 10 Score: 0.0318 | Keywords: 0.059*\"amsterdam\" + 0.048*\"utrecht\" + 0.043*\"willem\" + 0.040*\"wijk\" + 0.039*\"broer\"\n",
      "std 0.04617819935083389\n",
      "Entr 2.3870649337768555 \n",
      "\n"
     ]
    }
   ],
   "source": [
    "for i in range(10):\n",
    "    topics, scores = zip(*lda_model[corpus[i]][0])\n",
    "    \n",
    "    for idx, score in sorted(lda_model[corpus[i]][0], key= lambda tup: tup[1], reverse=True):\n",
    "        print(\"Topic: {} Score: {:.4f} | Keywords: {}\".format(idx, score, lda_model.print_topic(idx, 5)))\n",
    "    \n",
    "    print(\"std {}\".format(np.std(scores)))\n",
    "    print(\"Entr {} \\n\".format(stats.entropy(scores)))"
   ]
  },
  {
   "cell_type": "markdown",
   "metadata": {},
   "source": [
    "## Determine Topic Distribution from users' history with trained LDA model"
   ]
  },
  {
   "cell_type": "code",
   "execution_count": 11,
   "metadata": {},
   "outputs": [],
   "source": [
    "user_data = load_raw_user_data(data_path)"
   ]
  },
  {
   "cell_type": "code",
   "execution_count": 27,
   "metadata": {},
   "outputs": [
    {
     "data": {
      "text/plain": [
       "'0051f142-a28d-44c2-884d-592c608fa4b1'"
      ]
     },
     "execution_count": 27,
     "metadata": {},
     "output_type": "execute_result"
    }
   ],
   "source": [
    "next(iter(user_data))"
   ]
  },
  {
   "cell_type": "code",
   "execution_count": 28,
   "metadata": {},
   "outputs": [],
   "source": [
    "u_hist, ts = zip(*sorted(user_data['0051f142-a28d-44c2-884d-592c608fa4b1']['articles_read'], key=lambda tup: tup[1]))"
   ]
  },
  {
   "cell_type": "code",
   "execution_count": 29,
   "metadata": {},
   "outputs": [],
   "source": [
    "u_topic_distr = defaultdict(float)\n",
    "\n",
    "for art_id in u_hist:\n",
    "    for idx, score in sorted(lda_model[corpus[art_id2idx[art_id]][:30]][0], key=lambda tup: tup[1], reverse=True)[:5]:\n",
    "        u_topic_distr[idx] += score\n",
    "        \n",
    "# normalise\n",
    "norm = np.sum(list(u_topic_distr.values()))\n",
    "\n",
    "norm_topic_distr = {idx: score/norm for idx, score in sorted(u_topic_distr.items(), key=lambda tup: tup[0])}"
   ]
  },
  {
   "cell_type": "code",
   "execution_count": 36,
   "metadata": {},
   "outputs": [
    {
     "name": "stdout",
     "output_type": "stream",
     "text": [
      "Entr: 0.9476202019532657 \n",
      "std: 0.07230144639421165 \n",
      "\n",
      "Topic: 8 Score: 0.2600 \t Keywords: 0.011*\"minder\" + 0.010*\"zoal\" + 0.010*\"nodig\" + 0.008*\"sted\" + 0.008*\"houd\"\n",
      "Topic: 13 Score: 0.1844 \t Keywords: 0.015*\"echt\" + 0.013*\"vind\" + 0.012*\"elkar\" + 0.010*\"gewon\" + 0.010*\"nooit\"\n",
      "Topic: 1 Score: 0.1626 \t Keywords: 0.019*\"kreg\" + 0.016*\"moest\" + 0.015*\"maand\" + 0.014*\"later\" + 0.013*\"stond\"\n",
      "Topic: 7 Score: 0.1042 \t Keywords: 0.021*\"november\" + 0.020*\"deur\" + 0.018*\"vanaf\" + 0.018*\"sint\" + 0.017*\"december\"\n",
      "Topic: 16 Score: 0.0875 \t Keywords: 0.018*\"wethouder\" + 0.015*\"onderzoek\" + 0.015*\"problem\" + 0.014*\"vrag\" + 0.012*\"stelt\"\n",
      "Topic: 18 Score: 0.0497 \t Keywords: 0.029*\"twed\" + 0.025*\"seizoen\" + 0.021*\"spel\" + 0.020*\"punt\" + 0.018*\"team\"\n",
      "Topic: 6 Score: 0.0290 \t Keywords: 0.106*\"euro\" + 0.047*\"miljoen\" + 0.042*\"geld\" + 0.030*\"winkel\" + 0.029*\"bedrijf\"\n",
      "Topic: 4 Score: 0.0282 \t Keywords: 0.069*\"gemeent\" + 0.018*\"woning\" + 0.018*\"stad\" + 0.017*\"burgemeester\" + 0.016*\"bewoner\"\n",
      "Topic: 12 Score: 0.0224 \t Keywords: 0.062*\"politie\" + 0.024*\"onderzoek\" + 0.023*\"verdacht\" + 0.020*\"advocat\" + 0.019*\"werd\"\n",
      "Topic: 2 Score: 0.0177 \t Keywords: 0.123*\"nederland\" + 0.058*\"procent\" + 0.056*\"land\" + 0.024*\"vlam\" + 0.021*\"belgie\"\n",
      "Topic: 17 Score: 0.0155 \t Keywords: 0.036*\"amerikan\" + 0.031*\"slachtoffer\" + 0.026*\"dod\" + 0.026*\"trump\" + 0.026*\"gewond\"\n",
      "Topic: 0 Score: 0.0089 \t Keywords: 0.157*\"kinder\" + 0.097*\"ouder\" + 0.088*\"schol\" + 0.050*\"jonger\" + 0.044*\"leerling\"\n",
      "Topic: 11 Score: 0.0070 \t Keywords: 0.063*\"student\" + 0.059*\"eindhov\" + 0.056*\"twent\" + 0.049*\"ensched\" + 0.043*\"zwoll\"\n",
      "Topic: 14 Score: 0.0063 \t Keywords: 0.074*\"ziekenhuis\" + 0.069*\"patient\" + 0.044*\"berg\" + 0.031*\"behandel\" + 0.031*\"schot\"\n",
      "Topic: 19 Score: 0.0056 \t Keywords: 0.059*\"partij\" + 0.041*\"politiek\" + 0.026*\"reger\" + 0.021*\"minister\" + 0.017*\"steun\"\n",
      "Topic: 5 Score: 0.0044 \t Keywords: 0.046*\"restaurant\" + 0.043*\"muziek\" + 0.035*\"nummer\" + 0.032*\"programma\" + 0.027*\"gast\"\n",
      "Topic: 3 Score: 0.0024 \t Keywords: 0.093*\"vrouw\" + 0.036*\"foto\" + 0.034*\"vader\" + 0.030*\"moeder\" + 0.027*\"boek\"\n",
      "Topic: 9 Score: 0.0023 \t Keywords: 0.064*\"wedstrijd\" + 0.061*\"club\" + 0.045*\"speler\" + 0.041*\"ploeg\" + 0.041*\"trainer\"\n",
      "Topic: 10 Score: 0.0020 \t Keywords: 0.059*\"amsterdam\" + 0.048*\"utrecht\" + 0.043*\"willem\" + 0.040*\"wijk\" + 0.039*\"broer\"\n"
     ]
    }
   ],
   "source": [
    "print(\"Entr: {} \".format(stats.entropy(list(norm_topic_distr.values()), base=10)))\n",
    "print(\"std: {} \\n\".format(np.std(list(norm_topic_distr.values()))))\n",
    "\n",
    "for idx, score in sorted(norm_topic_distr.items(), key=lambda tup: tup[1], reverse=True):\n",
    "    print(\"Topic: {} Score: {:.4f} \\t Keywords: {}\".format(idx, score, lda_model.print_topic(idx, 5)))"
   ]
  },
  {
   "cell_type": "code",
   "execution_count": 37,
   "metadata": {},
   "outputs": [
    {
     "data": {
      "text/plain": [
       "1.0"
      ]
     },
     "execution_count": 37,
     "metadata": {},
     "output_type": "execute_result"
    }
   ],
   "source": [
    "np.sum(list(norm_topic_distr.values()))"
   ]
  },
  {
   "cell_type": "code",
   "execution_count": 41,
   "metadata": {},
   "outputs": [
    {
     "name": "stdout",
     "output_type": "stream",
     "text": [
      "Entr 0.9476\n",
      "std 0.0723 \n",
      "\n"
     ]
    },
    {
     "data": {
      "text/plain": [
       "Text(0.5, 1.0, 'Example of Topic Distribution from User Reading History')"
      ]
     },
     "execution_count": 41,
     "metadata": {},
     "output_type": "execute_result"
    },
    {
     "data": {
      "image/png": "[encoded data removed]",
      "text/plain": [
       "<Figure size 432x288 with 1 Axes>"
      ]
     },
     "metadata": {
      "needs_background": "light"
     },
     "output_type": "display_data"
    }
   ],
   "source": [
    "print(\"Entr {:.4f}\".format(stats.entropy(list(norm_topic_distr.values()), base=10)))\n",
    "print(\"std {:.4f} \\n\".format(np.std(list(norm_topic_distr.values()))))\n",
    "\n",
    "plt.bar([str(i) for i in norm_topic_distr.keys()], norm_topic_distr.values())\n",
    "plt.xlabel(\"Topic\")\n",
    "plt.ylabel(\"Proportion\")\n",
    "plt.title(\"Example of Topic Distribution from User Reading History\")"
   ]
  },
  {
   "cell_type": "code",
   "execution_count": 12,
   "metadata": {},
   "outputs": [],
   "source": [
    "def compute_user_topic_distribution(lda_model, articles_read, art_len=30, n_largest_topic_scores=5):\n",
    "    \n",
    "    u_hist, ts = zip(*sorted(articles_read, key=lambda tup: tup[1]))\n",
    "    \n",
    "    u_topic_distr = defaultdict(float)\n",
    "\n",
    "    # get topic distr for each article & aggregate 'n_largest' scores\n",
    "    for art_id in u_hist:\n",
    "        for idx, score in sorted(lda_model[corpus[art_id2idx[art_id]][:art_len]][0], key=lambda tup: tup[1], reverse=True)[:n_largest_topic_scores]:\n",
    "            u_topic_distr[idx] += score\n",
    "        \n",
    "    # normalise\n",
    "    norm = np.sum(list(u_topic_distr.values()))\n",
    "    norm_topic_distr = {idx: score/norm for idx, score in sorted(u_topic_distr.items(), key=lambda tup: tup[0])}\n",
    "    \n",
    "    return norm_topic_distr, len(u_hist)\n",
    "\n",
    "def plot_user_topic_distr(u_topic_dist, n_topics=20):\n",
    "    print(\"Entr {:.4f}\".format(stats.entropy(list(u_topic_dist.values()))))\n",
    "    print(\"std {:.4f} \\n\".format(np.std(list(u_topic_dist.values()))))\n",
    "    \n",
    "    \n",
    "    \n",
    "    tp_idx, scores = zip(*[(str(idx), score) for idx, score in sorted(u_topic_dist.items(), key=lambda tup: tup[0])])\n",
    "    #print(len(scores))\n",
    "    tp_idx, scores = [], []\n",
    "    for i in range(n_topics):\n",
    "        if i in u_topic_dist:\n",
    "            scores.append(u_topic_dist[i])\n",
    "        else:\n",
    "            scores.append(0.0)\n",
    "        \n",
    "        tp_idx.append(str(i))\n",
    "    \n",
    "    plt.bar(tp_idx, scores) # [str(i) for i in u_topic_dist.keys()]\n",
    "    plt.xlabel(\"Topic\")"
   ]
  },
  {
   "cell_type": "code",
   "execution_count": 125,
   "metadata": {},
   "outputs": [
    {
     "data": {
      "text/plain": [
       "20"
      ]
     },
     "execution_count": 125,
     "metadata": {},
     "output_type": "execute_result"
    }
   ],
   "source": [
    "len(lda_model.print_topics())"
   ]
  },
  {
   "cell_type": "code",
   "execution_count": 99,
   "metadata": {},
   "outputs": [
    {
     "name": "stdout",
     "output_type": "stream",
     "text": [
      "Entr 2.1820\n",
      "std 0.0723 \n",
      "\n",
      "19\n"
     ]
    },
    {
     "data": {
      "image/png": "[encoded data removed]",
      "text/plain": [
       "<Figure size 432x288 with 1 Axes>"
      ]
     },
     "metadata": {
      "needs_background": "light"
     },
     "output_type": "display_data"
    }
   ],
   "source": [
    "n=5\n",
    "\n",
    "tp_distr, hist_len = compute_user_topic_distribution(lda_model, user_data['0051f142-a28d-44c2-884d-592c608fa4b1']['articles_read'], n_largest_topic_scores=n)\n",
    "plot_user_topic_distr(tp_distr)"
   ]
  },
  {
   "cell_type": "code",
   "execution_count": 127,
   "metadata": {},
   "outputs": [
    {
     "data": {
      "text/plain": [
       "dict_items([(0, 0.004295461362910138), (1, 0.1956700074492237), (2, 0.01562575983769856), (3, 0.021609553507490557), (4, 0.01708311898216), (5, 0.0046593899682287705), (6, 0.03723621732218161), (7, 0.11282801712149255), (8, 0.22355165929463944), (9, 0.018475282296041635), (10, 0.0014629422376849662), (11, 0.0018453004250090033), (12, 0.05361518155542576), (13, 0.17630445246522683), (15, 0.003142378507733612), (16, 0.01702789572843949), (17, 0.05605828190724404), (18, 0.03877672676845205), (19, 0.0007323732627172848)])"
      ]
     },
     "execution_count": 127,
     "metadata": {},
     "output_type": "execute_result"
    }
   ],
   "source": [
    "tp_distr.items()"
   ]
  },
  {
   "cell_type": "code",
   "execution_count": null,
   "metadata": {},
   "outputs": [],
   "source": []
  },
  {
   "cell_type": "code",
   "execution_count": 193,
   "metadata": {},
   "outputs": [],
   "source": [
    "# how can we aggregate individual user topic distribution into metric? \n",
    "# i.e. homogenity score\n",
    "# standard deviation of topic distribution: higher score = more homogenuous, i.e. few, dominant topics"
   ]
  },
  {
   "cell_type": "code",
   "execution_count": 155,
   "metadata": {},
   "outputs": [],
   "source": [
    "# how can we aggregate ALL user topic distribution into representative metric?"
   ]
  },
  {
   "cell_type": "code",
   "execution_count": 159,
   "metadata": {},
   "outputs": [
    {
     "data": {
      "text/plain": [
       "0.010526315789473684"
      ]
     },
     "execution_count": 159,
     "metadata": {},
     "output_type": "execute_result"
    }
   ],
   "source": []
  },
  {
   "cell_type": "code",
   "execution_count": 44,
   "metadata": {},
   "outputs": [],
   "source": [
    "l = [0.2 / 19] * 19+ [0.8]"
   ]
  },
  {
   "cell_type": "code",
   "execution_count": 45,
   "metadata": {},
   "outputs": [
    {
     "data": {
      "text/plain": [
       "0.17206180040292132"
      ]
     },
     "execution_count": 45,
     "metadata": {},
     "output_type": "execute_result"
    }
   ],
   "source": [
    "np.std(l)"
   ]
  },
  {
   "cell_type": "code",
   "execution_count": 50,
   "metadata": {},
   "outputs": [
    {
     "data": {
      "text/plain": [
       "0.4730727314642145"
      ]
     },
     "execution_count": 50,
     "metadata": {},
     "output_type": "execute_result"
    }
   ],
   "source": [
    "stats.entropy(l, base=10)"
   ]
  },
  {
   "cell_type": "code",
   "execution_count": 51,
   "metadata": {},
   "outputs": [
    {
     "data": {
      "text/plain": [
       "0.21794494717703367"
      ]
     },
     "execution_count": 51,
     "metadata": {},
     "output_type": "execute_result"
    }
   ],
   "source": [
    "l = [0.0] * 19 + [1.0]\n",
    "np.std(l)"
   ]
  },
  {
   "cell_type": "code",
   "execution_count": 54,
   "metadata": {},
   "outputs": [
    {
     "data": {
      "text/plain": [
       "0.0"
      ]
     },
     "execution_count": 54,
     "metadata": {},
     "output_type": "execute_result"
    }
   ],
   "source": [
    "stats.entropy(l)"
   ]
  },
  {
   "cell_type": "code",
   "execution_count": 13,
   "metadata": {},
   "outputs": [],
   "source": [
    "def smooth(y, box_pts, n_first_valid=None):\n",
    "    box = np.ones(box_pts)/box_pts\n",
    "    y_smooth = np.convolve(y, box, mode='same')\n",
    "    if n_first_valid is not None:\n",
    "        valid_conv = np.convolve(y, box, mode='valid')\n",
    "        y_smooth[:n_first_valid] = valid_conv[:n_first_valid]\n",
    "        y_smooth[-2:] = valid_conv[-2:]\n",
    "    return y_smooth\n",
    "\n",
    "\n",
    "def link_hl2topic_scores(lda_model, art_len=100, n_largest_topics=5, min_hl=0, max_hl=1000, entr_base=None):\n",
    "    hl_tp_std, hl_tp_entr = defaultdict(list), defaultdict(list)\n",
    "    for u_id in user_data:\n",
    "        norm_topic_distr, hist_len = compute_user_topic_distribution(lda_model, user_data[u_id]['articles_read'], \n",
    "                                                                     art_len=art_len, n_largest_topic_scores=n_largest_topics)\n",
    "        \n",
    "        tp_std= np.std(list(norm_topic_distr.values()))\n",
    "        if entr_base is not None:\n",
    "            tp_entr=stats.entropy(list(norm_topic_distr.values()), base=entr_base)\n",
    "        else:\n",
    "            tp_entr=stats.entropy(list(norm_topic_distr.values()))\n",
    "        \n",
    "        hl_tp_std[hist_len].append(tp_std)\n",
    "        hl_tp_entr[hist_len].append(tp_entr)\n",
    "        \n",
    "        user_data[u_id]['topic_std'] = tp_std\n",
    "        user_data[u_id]['topic_entr'] = tp_entr\n",
    "        \n",
    "    return hl_tp_std, hl_tp_entr"
   ]
  },
  {
   "cell_type": "code",
   "execution_count": 16,
   "metadata": {},
   "outputs": [
    {
     "name": "stdout",
     "output_type": "stream",
     "text": [
      "CPU times: user 52min 45s, sys: 39.6 s, total: 53min 24s\n",
      "Wall time: 17min 49s\n"
     ]
    }
   ],
   "source": [
    "%%time\n",
    "\n",
    "hl_tp_std, hl_tp_entr = link_hl2topic_scores(lda_model, art_len=30, n_largest_topics=5)"
   ]
  },
  {
   "cell_type": "code",
   "execution_count": 17,
   "metadata": {},
   "outputs": [],
   "source": [
    "def plot_entropy_std_topic_distr(hl_tp_std, hl_tp_entr, fig_size=(12, 8)):\n",
    "\n",
    "    fig = plt.figure(figsize=fig_size)\n",
    "\n",
    "\n",
    "    hist_lens, entrs, s_entr = zip(*sorted([(hl, np.mean(vals), len(vals)) for hl, vals in hl_tp_entr.items()], key = lambda t: t[0]))\n",
    "\n",
    "    plt.subplot(211)\n",
    "    plt.scatter(hist_lens, entrs, s=s_entr, alpha=0.6)\n",
    "    plt.plot(hist_lens, smooth(entrs, 5, 3), color=\"orange\", label=\"Entropy (smooth)\")\n",
    "\n",
    "    mean=True\n",
    "    if mean:\n",
    "        plt.axhline(np.mean(entrs), color='red', linestyle='--', label=\"mean: {:.3f}\".format(np.mean(entrs)))\n",
    "    else:\n",
    "        plt.axhline(np.median(entrs), color='red', linestyle='--', label=\"median: {:.3f}\".format(np.median(entrs)))\n",
    "    plt.xlabel(\"History Length\")\n",
    "    plt.ylabel(\"Entropy score\")\n",
    "    plt.title(\"Entropy\")\n",
    "    #plt.ylim(2.5, 2.9)\n",
    "    plt.legend()\n",
    "    # high entropy indicates higher uncertainty, i.e. topical diversity\n",
    "    # low entropy = less uncertain = homogenuous\n",
    "\n",
    "    hist_lens, stds, s_std = zip(*sorted([(hl, np.mean(vals), len(vals)) for hl, vals in hl_tp_std.items()], key = lambda t: t[0]))\n",
    "\n",
    "    plt.subplot(212)\n",
    "    plt.scatter(hist_lens, stds, s=s_std, alpha=0.6)\n",
    "    plt.plot(hist_lens, smooth(stds, 5, 3), color=\"orange\", label=\"Topic STD (smooth)\")\n",
    "\n",
    "    #plt.plot(x, smooth(y_mrr, 10), label=\"MRR (smooth)\")\n",
    "    #plt.plot(x, y, label=\"AUC\")\n",
    "    plt.axhline(np.mean(stds), color='red', linestyle='--', label=\"mean: {:.3f}\".format(np.mean(stds)))\n",
    "    plt.xlabel(\"History Length\")\n",
    "    plt.ylabel(\"STD score\")\n",
    "    plt.ylim(0.06, 0.08)\n",
    "    plt.title(\"Standard Devidation (STD)\")\n",
    "    plt.legend()\n",
    "\n",
    "    return fig\n"
   ]
  },
  {
   "cell_type": "code",
   "execution_count": 18,
   "metadata": {},
   "outputs": [
    {
     "data": {
      "image/png": "[encoded data removed]",
      "text/plain": [
       "<Figure size 720x576 with 2 Axes>"
      ]
     },
     "metadata": {
      "needs_background": "light"
     },
     "output_type": "display_data"
    }
   ],
   "source": [
    "fig = plot_entropy_std_topic_distr(hl_tp_std, hl_tp_entr, fig_size=(10, 8))\n",
    "fig.suptitle(\"Dispersion of Topic Distributions in User Histories\", fontsize=14)\n",
    "fig.subplots_adjust(hspace=0.3)\n",
    "\n",
    "res_dir=\"./plots/draft_01/\"\n",
    "plt.savefig(res_dir + \"01_topic_distr_no_min_hl.png\", dpi=400, bbox_inches='tight')"
   ]
  },
  {
   "cell_type": "markdown",
   "metadata": {},
   "source": [
    "### Show two examples of low and high homogeneuous distribituons"
   ]
  },
  {
   "cell_type": "code",
   "execution_count": 19,
   "metadata": {},
   "outputs": [
    {
     "data": {
      "text/html": [
       "<div>\n",
       "<style scoped>\n",
       "    .dataframe tbody tr th:only-of-type {\n",
       "        vertical-align: middle;\n",
       "    }\n",
       "\n",
       "    .dataframe tbody tr th {\n",
       "        vertical-align: top;\n",
       "    }\n",
       "\n",
       "    .dataframe thead th {\n",
       "        text-align: right;\n",
       "    }\n",
       "</style>\n",
       "<table border=\"1\" class=\"dataframe\">\n",
       "  <thead>\n",
       "    <tr style=\"text-align: right;\">\n",
       "      <th></th>\n",
       "      <th>articles_read</th>\n",
       "      <th>articles_train</th>\n",
       "      <th>articles_test</th>\n",
       "      <th>n_arts_read</th>\n",
       "      <th>topic_std</th>\n",
       "      <th>topic_entr</th>\n",
       "    </tr>\n",
       "  </thead>\n",
       "  <tbody>\n",
       "    <tr>\n",
       "      <th>000016a9-6665-442b-87f1-662efa7d1b13</th>\n",
       "      <td>[(f7db535, 1573973552), (1128216, 1574049451),...</td>\n",
       "      <td>[[2ee393d, 1574224464], [64b8b01, 1574397271],...</td>\n",
       "      <td>[[3af2b58, 1575150291], [5c76ef6, 1575150176],...</td>\n",
       "      <td>43</td>\n",
       "      <td>0.071012</td>\n",
       "      <td>2.193392</td>\n",
       "    </tr>\n",
       "    <tr>\n",
       "      <th>0005d90e-9af4-455f-98da-3070c060a99d</th>\n",
       "      <td>[(f964e1a, 1572588703), (83f248a, 1572641235),...</td>\n",
       "      <td>[[6b8951d, 1573584003], [90a8595, 1574023608],...</td>\n",
       "      <td>[[f9463e5, 1575040172], [8ab4daa, 1575023622],...</td>\n",
       "      <td>66</td>\n",
       "      <td>0.072210</td>\n",
       "      <td>2.163547</td>\n",
       "    </tr>\n",
       "    <tr>\n",
       "      <th>0006af13-73d5-417e-be70-02dc4bd32661</th>\n",
       "      <td>[(b687ca3, 1572588902), (765e5d8, 1572820240),...</td>\n",
       "      <td>[[15dd1da, 1574195619], [b687ca3, 1572588902],...</td>\n",
       "      <td>[[9cdaec0, 1574585754], [7d1efa5, 1574704731],...</td>\n",
       "      <td>21</td>\n",
       "      <td>0.077032</td>\n",
       "      <td>2.088667</td>\n",
       "    </tr>\n",
       "    <tr>\n",
       "      <th>000970cc-a98e-49a4-a2fc-c7ba4e404441</th>\n",
       "      <td>[(ae18dcd, 1572600735), (abfc315, 1572742216),...</td>\n",
       "      <td>[[18766b6, 1573823972], [eab4beb, 1573824015],...</td>\n",
       "      <td>[[5933d2c, 1574596228], [10d25e6, 1574596193],...</td>\n",
       "      <td>37</td>\n",
       "      <td>0.076177</td>\n",
       "      <td>2.084761</td>\n",
       "    </tr>\n",
       "    <tr>\n",
       "      <th>000a5325-012c-4bf6-91b2-e9ed817f282b</th>\n",
       "      <td>[(9b0e87d, 1572596921), (440cd81, 1572631298),...</td>\n",
       "      <td>[[0421aa2, 1574152678], [b9f2f78, 1573329164],...</td>\n",
       "      <td>[[66f2aaa, 1574867938], [db41b37, 1574867976],...</td>\n",
       "      <td>67</td>\n",
       "      <td>0.074763</td>\n",
       "      <td>2.097324</td>\n",
       "    </tr>\n",
       "  </tbody>\n",
       "</table>\n",
       "</div>"
      ],
      "text/plain": [
       "                                                                          articles_read  \\\n",
       "000016a9-6665-442b-87f1-662efa7d1b13  [(f7db535, 1573973552), (1128216, 1574049451),...   \n",
       "0005d90e-9af4-455f-98da-3070c060a99d  [(f964e1a, 1572588703), (83f248a, 1572641235),...   \n",
       "0006af13-73d5-417e-be70-02dc4bd32661  [(b687ca3, 1572588902), (765e5d8, 1572820240),...   \n",
       "000970cc-a98e-49a4-a2fc-c7ba4e404441  [(ae18dcd, 1572600735), (abfc315, 1572742216),...   \n",
       "000a5325-012c-4bf6-91b2-e9ed817f282b  [(9b0e87d, 1572596921), (440cd81, 1572631298),...   \n",
       "\n",
       "                                                                         articles_train  \\\n",
       "000016a9-6665-442b-87f1-662efa7d1b13  [[2ee393d, 1574224464], [64b8b01, 1574397271],...   \n",
       "0005d90e-9af4-455f-98da-3070c060a99d  [[6b8951d, 1573584003], [90a8595, 1574023608],...   \n",
       "0006af13-73d5-417e-be70-02dc4bd32661  [[15dd1da, 1574195619], [b687ca3, 1572588902],...   \n",
       "000970cc-a98e-49a4-a2fc-c7ba4e404441  [[18766b6, 1573823972], [eab4beb, 1573824015],...   \n",
       "000a5325-012c-4bf6-91b2-e9ed817f282b  [[0421aa2, 1574152678], [b9f2f78, 1573329164],...   \n",
       "\n",
       "                                                                          articles_test  \\\n",
       "000016a9-6665-442b-87f1-662efa7d1b13  [[3af2b58, 1575150291], [5c76ef6, 1575150176],...   \n",
       "0005d90e-9af4-455f-98da-3070c060a99d  [[f9463e5, 1575040172], [8ab4daa, 1575023622],...   \n",
       "0006af13-73d5-417e-be70-02dc4bd32661  [[9cdaec0, 1574585754], [7d1efa5, 1574704731],...   \n",
       "000970cc-a98e-49a4-a2fc-c7ba4e404441  [[5933d2c, 1574596228], [10d25e6, 1574596193],...   \n",
       "000a5325-012c-4bf6-91b2-e9ed817f282b  [[66f2aaa, 1574867938], [db41b37, 1574867976],...   \n",
       "\n",
       "                                      n_arts_read  topic_std  topic_entr  \n",
       "000016a9-6665-442b-87f1-662efa7d1b13           43   0.071012    2.193392  \n",
       "0005d90e-9af4-455f-98da-3070c060a99d           66   0.072210    2.163547  \n",
       "0006af13-73d5-417e-be70-02dc4bd32661           21   0.077032    2.088667  \n",
       "000970cc-a98e-49a4-a2fc-c7ba4e404441           37   0.076177    2.084761  \n",
       "000a5325-012c-4bf6-91b2-e9ed817f282b           67   0.074763    2.097324  "
      ]
     },
     "execution_count": 19,
     "metadata": {},
     "output_type": "execute_result"
    }
   ],
   "source": [
    "u_df = pd.DataFrame.from_dict(user_data, orient='index')\n",
    "u_df = u_df.drop(['opened_pushes', 'articles_pushed'], axis=1)\n",
    "u_df.head()"
   ]
  },
  {
   "cell_type": "code",
   "execution_count": 23,
   "metadata": {},
   "outputs": [
    {
     "name": "stdout",
     "output_type": "stream",
     "text": [
      "2275\n"
     ]
    }
   ],
   "source": [
    "shorts = list(u_df[(u_df['n_arts_read'] < 30) & (u_df['topic_std'] > 0.073)].index)\n",
    "print(len(shorts))\n",
    "longs = list(u_df[(u_df['n_arts_read'] > 100) & (u_df['topic_entr'] > 2.2)].index)"
   ]
  },
  {
   "cell_type": "code",
   "execution_count": 41,
   "metadata": {},
   "outputs": [
    {
     "name": "stdout",
     "output_type": "stream",
     "text": [
      "169a91aa-5a06-4210-83e2-b8a23a0dde38\n",
      "Entr 1.8998\n",
      "std 0.0918 \n",
      "\n"
     ]
    },
    {
     "data": {
      "image/png": "[encoded data removed]",
      "text/plain": [
       "<Figure size 432x288 with 1 Axes>"
      ]
     },
     "metadata": {
      "needs_background": "light"
     },
     "output_type": "display_data"
    }
   ],
   "source": [
    "n=5\n",
    "\n",
    "u_id = random.choice(shorts)\n",
    "\n",
    "print(u_id)\n",
    "tp_distr, hist_len = compute_user_topic_distribution(lda_model, user_data[u_id]['articles_read'], n_largest_topic_scores=n)\n",
    "\n",
    "plot_user_topic_distr(tp_distr)"
   ]
  },
  {
   "cell_type": "code",
   "execution_count": 37,
   "metadata": {},
   "outputs": [
    {
     "name": "stdout",
     "output_type": "stream",
     "text": [
      "79261be3-3907-4f91-a158-87550bd527ee\n",
      "Entr 2.2631\n",
      "std 0.0659 \n",
      "\n"
     ]
    },
    {
     "data": {
      "image/png": "[encoded data removed]",
      "text/plain": [
       "<Figure size 432x288 with 1 Axes>"
      ]
     },
     "metadata": {
      "needs_background": "light"
     },
     "output_type": "display_data"
    }
   ],
   "source": [
    "n=5\n",
    "\n",
    "u_id = random.choice(longs)\n",
    "\n",
    "print(u_id)\n",
    "tp_distr, hist_len = compute_user_topic_distribution(lda_model, user_data[u_id]['articles_read'], n_largest_topic_scores=n)\n",
    "\n",
    "plot_user_topic_distr(tp_distr)"
   ]
  },
  {
   "cell_type": "code",
   "execution_count": null,
   "metadata": {},
   "outputs": [],
   "source": []
  },
  {
   "cell_type": "code",
   "execution_count": null,
   "metadata": {},
   "outputs": [],
   "source": []
  }
 ],
 "metadata": {
  "kernelspec": {
   "display_name": "Python 3",
   "language": "python",
   "name": "python3"
  },
  "language_info": {
   "codemirror_mode": {
    "name": "ipython",
    "version": 3
   },
   "file_extension": ".py",
   "mimetype": "text/x-python",
   "name": "python",
   "nbconvert_exporter": "python",
   "pygments_lexer": "ipython3",
   "version": "3.7.3"
  }
 },
 "nbformat": 4,
 "nbformat_minor": 1
}
