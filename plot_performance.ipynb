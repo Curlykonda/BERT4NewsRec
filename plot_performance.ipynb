{
 "cells": [
  {
   "cell_type": "code",
   "execution_count": 227,
   "metadata": {},
   "outputs": [],
   "source": [
    "import os\n",
    "from pathlib import Path\n",
    "from typing import Dict, Any, List\n",
    "\n",
    "import numpy as np\n",
    "import random\n",
    "import matplotlib.pyplot as plt\n",
    "\n",
    "from collections import OrderedDict, defaultdict\n",
    "\n",
    "import json\n",
    "import pickle\n",
    "import itertools\n",
    "import pprint"
   ]
  },
  {
   "cell_type": "code",
   "execution_count": null,
   "metadata": {
    "pycharm": {
     "name": "#%%\n"
    }
   },
   "outputs": [],
   "source": []
  },
  {
   "cell_type": "code",
   "execution_count": 3,
   "metadata": {
    "pycharm": {
     "name": "#%%\n"
    }
   },
   "outputs": [],
   "source": [
    "# globals\n",
    "\n",
    "cmaps = OrderedDict()\n",
    "cmaps['Sequential'] = [\n",
    "            'Greys', 'Purples', 'Blues', 'Greens', 'Oranges', 'Reds',\n",
    "            'YlOrBr', 'YlOrRd', 'OrRd', 'PuRd', 'RdPu', 'BuPu',\n",
    "            'GnBu', 'PuBu', 'YlGnBu', 'PuBuGn', 'BuGn', 'YlGn']\n",
    "\n",
    "cmaps['Sequential-my'] = [\n",
    "            'YlOrBr', 'Blues', 'Reds', 'Greens', 'Oranges', 'Purples', 'PuRd', 'GnBu', 'BuGn']\n"
   ]
  },
  {
   "cell_type": "code",
   "execution_count": 46,
   "metadata": {
    "pycharm": {
     "name": "#%%\n"
    }
   },
   "outputs": [],
   "source": [
    "home = Path.home()\n",
    "\n",
    "logs_struct_path = 'Documents/02-MasterThesis/logs_n_plots/logs_struct'\n",
    "rq_dirs = ['0', '11-RQ1', '12-RQ2', '13-RQ3', '14-RQ4', '15-RQ5']\n",
    "\n",
    "txt_files = ['logs_to_plot.txt', 'logs_to_plot1.txt', 'logs_to_plot2.txt',  'logs_to_plot3.txt']\n",
    "json_files = ['logs_to_plot.json', 'logs_to_plot1.json', 'logs_to_plot2.json',  'logs_to_plot3.json']\n",
    "\n",
    "# define path to final logs\n",
    "res_path = Path('./final_logs/')\n",
    "file_name = \"metrics.json\"\n",
    "metrics_include = {}\n",
    "\n",
    "metrics_include['train'] = ['loss',]\n",
    "metrics_include['val'] = ['AUC']\n"
   ]
  },
  {
   "cell_type": "code",
   "execution_count": 7,
   "metadata": {
    "pycharm": {
     "name": "#%%\n"
    }
   },
   "outputs": [],
   "source": [
    "def create_plot_labels():\n",
    "    pass\n",
    "\n",
    "def select_relevant_exps():\n",
    "    pass\n",
    "\n",
    "def plot_simple_run(data, labels, fig_size=(10,5)):\n",
    "\n",
    "    n_points = 100\n",
    "\n",
    "    if data == None:\n",
    "        data_points = {}\n",
    "        data_points['bce-loss/train'] = np.random.rand(n_points) * 2\n",
    "        data_points['bce-loss/test'] = np.random.rand(n_points) * 2\n",
    "\n",
    "        #data_points['bce-log-loss/train'] = np.random.rand(n_points) * 2\n",
    "        #data_points['bce-log-loss/test'] = np.random.rand(n_points) * 2\n",
    "\n",
    "    fig, ax = plt.subplots(figsize=fig_size)\n",
    "    plt.style.use('seaborn')\n",
    "\n",
    "    #color = iter(plt.cm.rainbow(np.linspace(0, 1, len(data_points))))\n",
    "    #c = next(color)\n",
    "    c = 'blue'\n",
    "    for key, vals in data_points.items():\n",
    "        if key.__contains__('test'):\n",
    "            ls = '--'\n",
    "        else:\n",
    "            ls = '-'\n",
    "        ax.plot(vals, label=key, linestyle=ls)\n",
    "\n",
    "    ax.set_xlabel('Epoch')  # Add an x-label to the axes.\n",
    "    ax.set_ylabel('y label')  # Add a y-label to the axes.\n",
    "    ax.set_title(\"Simple Plot\")  # Add a title to the axes.\n",
    "    ax.legend()  # Add a legend.\n",
    "\n",
    "    plt.show()\n",
    "\n",
    "def plot_mul_runs_subplots(exp_data, exp_labels : [str], metric_first_plot : [str], xlabel, save_title : str,\n",
    "                           n_vals=300, sub_plots=(1, 2), fig_size=(11, 7), incl_metric_key=False, train_dashed=True, show_title=None):\n",
    "\n",
    "    '''\n",
    "    input: list of dicts\n",
    "    each list entry (experiment) contains losses (train + test) and metrics (4)\n",
    "    corresponding metrics have same color but test is dashed\n",
    "\n",
    "    data format: list(dict) [exp1, exp2, ... ]\n",
    "    e.g.:\n",
    "        exp1:\n",
    "        {   metric1 : [vals],\n",
    "            metric2 : [vals],\n",
    "            ... }\n",
    "\n",
    "    - From list of Sequential Colormaps Select n_experiments cmaps\n",
    "    - each cmap n_metrics colors\n",
    "\n",
    "    :return:\n",
    "    '''\n",
    "\n",
    "    fig, axs = plt.subplots(nrows=2, ncols=1, figsize=fig_size) # figsize=fig_size, fig.tight_layout()\n",
    "\n",
    "    if show_title is not None:\n",
    "        fig.suptitle(show_title, fontsize=16)\n",
    "\n",
    "    n_exps = len(exp_data)\n",
    "    #seq_cmaps = random.sample(cmaps['Sequential'], n_exps)\n",
    "    seq_cmaps = cmaps['Sequential-my'][:n_exps]\n",
    "    for i, exp in enumerate(exp_data):\n",
    "        #select color map\n",
    "        n_metrics = len(exp.keys())\n",
    "        cmap = plt.get_cmap(seq_cmaps[i])\n",
    "        if n_metrics > 2:\n",
    "\n",
    "            #create colors for each metric\n",
    "            #colors = iter(random.sample(list(cmap(np.linspace(0.5, 0.9, n_metrics))), n_metrics))\n",
    "            colors = iter(list(cmap(np.linspace(0.5, 0.9, n_metrics))))\n",
    "        else:\n",
    "            colors = iter(list(cmap(np.linspace(0.5, 0.9, 1)))*n_metrics)\n",
    "\n",
    "        for key, vals in exp.items():\n",
    "            c = next(colors)\n",
    "\n",
    "            if incl_metric_key:\n",
    "                lbl = ' '.join([exp_labels[i], key])\n",
    "            else:\n",
    "                lbl = exp_labels[i]\n",
    "\n",
    "            if key.__contains__('train'):\n",
    "                ls = '--'\n",
    "            else:\n",
    "                ls = '-'\n",
    "\n",
    "            if key in metric_first_plot:\n",
    "                axs[0].plot(vals[:n_vals], label=lbl, color=c, linestyle=ls)\n",
    "            else:\n",
    "                axs[1].plot(vals[:n_vals], label=lbl, color=c, linestyle=ls)\n",
    "\n",
    "\n",
    "            # if key.__contains__('train'):\n",
    "            #     ax.plot(vals[:n_vals], label=lbl, color=c, linestyle='--')\n",
    "            # else:\n",
    "            #     ax.plot(vals[:n_vals], label=lbl, color=c, linestyle='-')\n",
    "            #ax.plot(test_vals, label=lbl + '/test', color=c, linestyle='--')\n",
    "\n",
    "    axs[0].set_ylabel('loss value')\n",
    "    axs[0].set_title('Train Loss')\n",
    "    axs[0].legend()\n",
    "\n",
    "    #fig.tight_layout()\n",
    "\n",
    "    axs[1].set_title('Validation AUC')\n",
    "    axs[1].set_xlabel(xlabel)\n",
    "    axs[1].legend(loc='lower right')\n",
    "\n",
    "    if show_title is not None:\n",
    "        #fig.tight_layout()\n",
    "        fig.subplots_adjust(top=0.80)\n",
    "\n",
    "    plt.show()\n",
    "\n",
    "    fname = \"../../plots/\" + save_title + \".png\"\n",
    "    fig.savefig(fname, dpi=400, bbox_inches='tight')\n",
    "\n",
    "\n",
    "def average_metrics_over_runs(result_metrics, add_var=False):\n",
    "    # aggregate metrics over multiple runs\n",
    "    #loss, acc, auc, ap\n",
    "    agg_metrics = zip(*[run.values() for run in result_metrics]) #\n",
    "    agg_metrics = dict(zip(list(result_metrics[0].keys()), agg_metrics)) # create dict from zip(keys, vals)\n",
    "\n",
    "    # compute mean for each position\n",
    "    for key, m_vals in agg_metrics.items():\n",
    "        train, test = zip(*m_vals)\n",
    "        # zipped list where each entry concats values at the same position\n",
    "        # [ (train1[0], train2[0], train3[0]), (train1[1], train2[1], train3[1]), ... ]\n",
    "\n",
    "        # zip and average / apply function  +  assign back to avg_results\n",
    "        agg_metrics[key] = (zip_and_apply(train, np.mean),\n",
    "                            zip_and_apply(test, np.mean))\n",
    "\n",
    "        if add_var:\n",
    "            agg_metrics[key + '-var'] = (zip_and_apply(train, np.var),\n",
    "                                        zip_and_apply(test, np.var))\n",
    "\n",
    "    return agg_metrics\n",
    "\n",
    "def zip_and_apply(iterable, fnc):\n",
    "    #values = list(zip(*values))\n",
    "    #values = list(map(np.mean, values))\n",
    "    return list(map(fnc, list(zip(*iterable))))\n",
    "\n",
    "\n",
    "def loss_metric_subplots(rel_metrics: Dict[str, List[Any]], metrics_include: Dict[str, List[str]],\n",
    "                         labels: List[str], title: str, ):\n",
    "    first_plot = ['loss']\n",
    "\n",
    "def metrics_subplots(rel_metrics: Dict[str, List[Any]], metrics_include: Dict[str, List[str]],\n",
    "                     labels: List[str], first_plot: List[Any], title: str):\n",
    "    pass"
   ]
  },
  {
   "cell_type": "code",
   "execution_count": 264,
   "metadata": {},
   "outputs": [],
   "source": [
    "def load_exps_results(exps, metrics_include):\n",
    "    rel_metrics = defaultdict(list)\n",
    "    rel_test_metrics = defaultdict(list)\n",
    "\n",
    "    # load + aggregate multiple runs \n",
    "    for ex in exps:\n",
    "\n",
    "        ex = ex.strip()\n",
    "        with open(res_path.joinpath(ex, file_name)) as fin:\n",
    "            metrics = json.load(fin)\n",
    "\n",
    "        # { run1: {'train': {'loss': [vals], 'AUC': [vals]},\n",
    "        #       {'val': {'AUC': [vals], 'MRR': [vals]}\n",
    "        #\n",
    "        # }\n",
    "\n",
    "        for k_data in ['train', 'val']:\n",
    "            for key, vals in metrics[k_data].items():\n",
    "                if key in metrics_include[k_data] and 'loss' == key:\n",
    "                    rel_metrics[key].append(vals)\n",
    "                elif key in metrics_include[k_data]:\n",
    "                    rel_metrics[\"_\".join([key, k_data])].append(vals)\n",
    "\n",
    "        if 'test' in metrics:\n",
    "            for key, vals in metrics['test'].items():\n",
    "                rel_test_metrics[\"_\".join([key, 'test'])].append(vals)\n",
    "                    \n",
    "    return rel_metrics, rel_test_metrics \n",
    "\n",
    "def aggr_mul_runs(logs, metrics_include):\n",
    "\n",
    "    plot_metrics = defaultdict(dict)\n",
    "    test_metrics = defaultdict(dict)\n",
    "\n",
    "    for k_config, exps in logs.items():\n",
    "\n",
    "        # load + aggregate multiple runs \n",
    "        plot, test = load_exps_results(exps, metrics_include)\n",
    "        \n",
    "        \n",
    "        # average metrics\n",
    "        plot_metrics[k_config] = average_metrics(plot)\n",
    "        test_metrics[k_config] = average_metrics(test)\n",
    "        \n",
    "    return plot_metrics, test_metrics\n",
    "    \n",
    "    \n",
    "def pad_list(l, l_max, pad_val=None):\n",
    "    if len(l) < l_max:\n",
    "        return l + [pad_val] * (l_max - len(l))\n",
    "    \n",
    "    else:\n",
    "        return l\n",
    "    \n",
    "def average_metrics(metrics):\n",
    "    \n",
    "    avg_metrics = defaultdict(list)\n",
    "    \n",
    "    for k_metric, vals in metrics.items():\n",
    "        # check length of entries\n",
    "        l = [len(v) if isinstance(v, list) else 1 for v in vals]\n",
    "\n",
    "        # pad shorter ones with Nan\n",
    "        if len(set(l)) != 1:\n",
    "            vals = [pad_list(v, np.max(l), pad_val=np.nan) for v in vals]       \n",
    "        \n",
    "        if any(leng > 1 for leng in l):\n",
    "            # zip n average\n",
    "            avg = [np.nanmean(x) for x in zip(*vals)]    \n",
    "            std = [np.nanstd(x) for x in zip(*vals)]\n",
    "\n",
    "        else:\n",
    "            #print(\"test\")\n",
    "            avg = np.nanmean(vals)\n",
    "            std = np.nanstd(vals)\n",
    "\n",
    "\n",
    "        avg_metrics[k_metric] = [avg, std]\n",
    "        \n",
    "    return avg_metrics"
   ]
  },
  {
   "cell_type": "code",
   "execution_count": 242,
   "metadata": {},
   "outputs": [],
   "source": [
    "def plot_mul_runs_subplots(exp_data, exp_labels : [str], metric_first_plot : [str], xlabel, save_title : str,\n",
    "                           n_vals=300, sub_plots=(1, 2), fig_size=(11, 7), incl_metric_key=False, train_dashed=True, \n",
    "                           show_title=None, y_lim=None):\n",
    "\n",
    "    '''\n",
    "    input: list of dicts\n",
    "    each list entry (experiment) contains losses (train + test) and metrics (4)\n",
    "    corresponding metrics have same color but test is dashed\n",
    "\n",
    "    data format: list(dict) [exp1, exp2, ... ]\n",
    "    e.g.:\n",
    "        exp1:\n",
    "        {   metric1 : [vals],\n",
    "            metric2 : [vals],\n",
    "            ... }\n",
    "\n",
    "    - From list of Sequential Colormaps Select n_experiments cmaps\n",
    "    - each cmap n_metrics colors\n",
    "\n",
    "    :return:\n",
    "    '''\n",
    "\n",
    "    fig, axs = plt.subplots(nrows=2, ncols=1, figsize=fig_size) # figsize=fig_size, fig.tight_layout()\n",
    "\n",
    "    if show_title is not None:\n",
    "        fig.suptitle(show_title, fontsize=16)\n",
    "\n",
    "    n_exps = len(exp_data)\n",
    "    #seq_cmaps = random.sample(cmaps['Sequential'], n_exps)\n",
    "    seq_cmaps = cmaps['Sequential-my'][:n_exps]\n",
    "    for i, (exp, metrics) in enumerate(exp_data.items()):\n",
    "        #select color map\n",
    "        n_metrics = len(metrics)\n",
    "        cmap = plt.get_cmap(seq_cmaps[i])\n",
    "        if n_metrics > 2:\n",
    "\n",
    "            #create colors for each metric\n",
    "            #colors = iter(random.sample(list(cmap(np.linspace(0.5, 0.9, n_metrics))), n_metrics))\n",
    "            colors = iter(list(cmap(np.linspace(0.5, 0.9, n_metrics))))\n",
    "        else:\n",
    "            colors = iter(list(cmap(np.linspace(0.5, 0.9, 1)))*n_metrics)\n",
    "\n",
    "        for key, vals in metrics.items():\n",
    "            c = next(colors)\n",
    "\n",
    "            if incl_metric_key:\n",
    "                lbl = ' '.join([exp_labels[i], key])\n",
    "            else:\n",
    "                lbl = exp_labels[i]\n",
    "\n",
    "            if key.__contains__('train'):\n",
    "                ls = '--'\n",
    "            else:\n",
    "                ls = '-'\n",
    "\n",
    "            if key in metric_first_plot:\n",
    "                axs[0].plot(vals[0][:n_vals], label=lbl, color=c, linestyle=ls)\n",
    "            else:\n",
    "                axs[1].plot(vals[0][:n_vals], label=lbl, color=c, linestyle=ls)\n",
    "\n",
    "\n",
    "            # if key.__contains__('train'):\n",
    "            #     ax.plot(vals[:n_vals], label=lbl, color=c, linestyle='--')\n",
    "            # else:\n",
    "            #     ax.plot(vals[:n_vals], label=lbl, color=c, linestyle='-')\n",
    "            #ax.plot(test_vals, label=lbl + '/test', color=c, linestyle='--')\n",
    "    \n",
    "    axs[0].set_ylabel('loss value')\n",
    "    axs[0].set_title('Train Loss')\n",
    "    axs[0].legend()\n",
    "\n",
    "    axs[1].set_title('Validation AUC')\n",
    "    axs[1].set_xlabel(xlabel)\n",
    "    axs[1].set_ylabel('AUC score')\n",
    "    axs[1].legend(loc='lower right')\n",
    "    \n",
    "    if y_lim is not None:\n",
    "        for ax, lim in y_lim.items():\n",
    "            axs[int(ax)].set_ylim(lim)\n",
    "\n",
    "    if show_title is not None:\n",
    "        fig.tight_layout()\n",
    "        fig.subplots_adjust(top=0.90)\n",
    "\n",
    "    plt.show()\n",
    "\n",
    "    fname = \"./plots/\" + save_title + \".png\"\n",
    "    fig.savefig(fname, dpi=400, bbox_inches='tight')"
   ]
  },
  {
   "cell_type": "code",
   "execution_count": 243,
   "metadata": {},
   "outputs": [],
   "source": [
    "def pprint_test(test):\n",
    "    for i, (k_config, metrics) in enumerate(test.items()):\n",
    "        print(\"\\nConfig {}: {}\".format(i, k_config))\n",
    "        for k_m, (val, std) in metrics.items():\n",
    "            print(\"\\t {}: {:.4f} +/- {:.4f}\".format(k_m, val, std))"
   ]
  },
  {
   "cell_type": "code",
   "execution_count": null,
   "metadata": {
    "pycharm": {
     "name": "#%%\n"
    }
   },
   "outputs": [],
   "source": []
  },
  {
   "cell_type": "markdown",
   "metadata": {},
   "source": [
    "## RQ4: LTE vs. None"
   ]
  },
  {
   "cell_type": "code",
   "execution_count": null,
   "metadata": {
    "pycharm": {
     "name": "#%%\n"
    }
   },
   "outputs": [],
   "source": [
    "\n"
   ]
  },
  {
   "cell_type": "code",
   "execution_count": null,
   "metadata": {},
   "outputs": [],
   "source": []
  },
  {
   "cell_type": "markdown",
   "metadata": {},
   "source": [
    "## RQ5: NTE vs. LPE vs. None"
   ]
  },
  {
   "cell_type": "code",
   "execution_count": 265,
   "metadata": {
    "pycharm": {
     "name": "#%%\n"
    }
   },
   "outputs": [
    {
     "name": "stdout",
     "output_type": "stream",
     "text": [
      "RQ5 on dataset l_min=6\n",
      "xx\n"
     ]
    }
   ],
   "source": [
    "# compose metric path\n",
    "exp_plot_file = home.joinpath(*[logs_struct_path, rq_dirs[5], json_files[1]])\n",
    "\n",
    "# read in json\n",
    "with open(exp_plot_file, 'r') as fin: \n",
    "    rq_data = json.load(fin)\n",
    "\n",
    "print(rq_data['info'])\n",
    "print(rq_data['title'])"
   ]
  },
  {
   "cell_type": "code",
   "execution_count": 266,
   "metadata": {},
   "outputs": [],
   "source": [
    "logs = rq_data['logs']\n",
    "\n",
    "metrics_include['train'] = ['loss',]\n",
    "metrics_include['val'] = ['AUC']\n",
    "\n",
    "# aggregate_exp_results\n",
    "plot_metrics, test_metrics = aggr_mul_runs(logs, metrics_include)"
   ]
  },
  {
   "cell_type": "code",
   "execution_count": 267,
   "metadata": {},
   "outputs": [
    {
     "data": {
      "text/plain": [
       "dict_keys(['None', 'add_lpe', 'add_nte', 'cat_nte', 'add_nte_shuffle', 'cat_nte_shuffle'])"
      ]
     },
     "execution_count": 267,
     "metadata": {},
     "output_type": "execute_result"
    }
   ],
   "source": [
    "plot_metrics.keys()"
   ]
  },
  {
   "cell_type": "code",
   "execution_count": 268,
   "metadata": {},
   "outputs": [
    {
     "data": {
      "text/plain": [
       "[100, 200, 200]"
      ]
     },
     "execution_count": 268,
     "metadata": {},
     "output_type": "execute_result"
    }
   ],
   "source": [
    "l"
   ]
  },
  {
   "cell_type": "code",
   "execution_count": 269,
   "metadata": {},
   "outputs": [],
   "source": [
    "# load + aggregate multiple runs \n",
    "plot, test = load_exps_results(logs['add_lpe'], metrics_include)\n",
    "l = list(map(len, plot['loss']))"
   ]
  },
  {
   "cell_type": "code",
   "execution_count": 263,
   "metadata": {},
   "outputs": [
    {
     "data": {
      "text/plain": [
       "{100, 200}"
      ]
     },
     "execution_count": 263,
     "metadata": {},
     "output_type": "execute_result"
    }
   ],
   "source": []
  },
  {
   "cell_type": "code",
   "execution_count": null,
   "metadata": {},
   "outputs": [],
   "source": []
  },
  {
   "cell_type": "code",
   "execution_count": 253,
   "metadata": {},
   "outputs": [
    {
     "data": {
      "text/plain": [
       "100"
      ]
     },
     "execution_count": 253,
     "metadata": {},
     "output_type": "execute_result"
    }
   ],
   "source": [
    "len(plot_metrics['add_lpe']['loss'][0])"
   ]
  },
  {
   "cell_type": "code",
   "execution_count": 209,
   "metadata": {},
   "outputs": [
    {
     "data": {
      "text/plain": [
       "2"
      ]
     },
     "execution_count": 209,
     "metadata": {},
     "output_type": "execute_result"
    }
   ],
   "source": [
    "plot_metrics['None'].items()"
   ]
  },
  {
   "cell_type": "code",
   "execution_count": 192,
   "metadata": {},
   "outputs": [
    {
     "data": {
      "text/plain": [
       "dict_keys(['None', 'add_lpe', 'add_nte', 'cat_nte', 'add_nte_shuffle', 'cat_nte_shuffle'])"
      ]
     },
     "execution_count": 192,
     "metadata": {},
     "output_type": "execute_result"
    }
   ],
   "source": [
    "test_metrics.keys()"
   ]
  },
  {
   "cell_type": "code",
   "execution_count": 193,
   "metadata": {},
   "outputs": [
    {
     "data": {
      "text/plain": [
       "defaultdict(list,\n",
       "            {'Recall@5_test': [1.0, 0.0],\n",
       "             'NDCG@5_test': [0.6725186722040682, 0.006239977809818304],\n",
       "             'AUC_test': [0.6336916135881104, 0.010620446576476383],\n",
       "             'MRR_test': [0.5646491448717259, 0.00812545303534352]})"
      ]
     },
     "execution_count": 193,
     "metadata": {},
     "output_type": "execute_result"
    }
   ],
   "source": [
    "test_metrics['add_nte']"
   ]
  },
  {
   "cell_type": "code",
   "execution_count": 270,
   "metadata": {},
   "outputs": [
    {
     "data": {
      "image/png": "[encoded data removed]",
      "text/plain": [
       "<Figure size 792x504 with 2 Axes>"
      ]
     },
     "metadata": {
      "needs_background": "light"
     },
     "output_type": "display_data"
    }
   ],
   "source": [
    "result_labels = ['None', 'LPE (add)', 'NTE (add)', 'NTE (cat)', 'NTE (add + shuff)', 'NTE (cat + shuff)']\n",
    "title = 'B4NR with various supplemental order embeddings'\n",
    "\n",
    "plot_mul_runs_subplots(exp_data=plot_metrics, exp_labels=result_labels,\n",
    "                             metric_first_plot=['loss', 'AUC_train', 'MRR_train'], xlabel='epoch',\n",
    "                             save_title=(\"01_\" + title).replace(\" \", \"_\"), show_title=title, y_lim={'1': (0.62, 0.8)})"
   ]
  },
  {
   "cell_type": "code",
   "execution_count": 271,
   "metadata": {},
   "outputs": [
    {
     "name": "stdout",
     "output_type": "stream",
     "text": [
      "\n",
      "Config 0: None\n",
      "\t Recall@5_test: 1.0000 +/- 0.0000\n",
      "\t NDCG@5_test: 0.7033 +/- 0.0000\n",
      "\t AUC_test: 0.6781 +/- 0.0000\n",
      "\t MRR_test: 0.6050 +/- 0.0000\n",
      "\n",
      "Config 1: add_lpe\n",
      "\t Recall@5_test: 1.0000 +/- 0.0000\n",
      "\t NDCG@5_test: 0.6743 +/- 0.0050\n",
      "\t AUC_test: 0.6303 +/- 0.0082\n",
      "\t MRR_test: 0.5672 +/- 0.0065\n",
      "\n",
      "Config 2: add_nte\n",
      "\t Recall@5_test: 1.0000 +/- 0.0000\n",
      "\t NDCG@5_test: 0.6725 +/- 0.0062\n",
      "\t AUC_test: 0.6337 +/- 0.0106\n",
      "\t MRR_test: 0.5646 +/- 0.0081\n",
      "\n",
      "Config 3: cat_nte\n",
      "\t Recall@5_test: 1.0000 +/- 0.0000\n",
      "\t NDCG@5_test: 0.7058 +/- 0.0000\n",
      "\t AUC_test: 0.6853 +/- 0.0000\n",
      "\t MRR_test: 0.6082 +/- 0.0000\n",
      "\n",
      "Config 4: add_nte_shuffle\n",
      "\t Recall@5_test: 1.0000 +/- 0.0000\n",
      "\t NDCG@5_test: 0.6706 +/- 0.0014\n",
      "\t AUC_test: 0.6286 +/- 0.0019\n",
      "\t MRR_test: 0.5622 +/- 0.0019\n",
      "\n",
      "Config 5: cat_nte_shuffle\n",
      "\t Recall@5_test: 1.0000 +/- 0.0000\n",
      "\t NDCG@5_test: 0.6795 +/- 0.0000\n",
      "\t AUC_test: 0.6387 +/- 0.0000\n",
      "\t MRR_test: 0.5741 +/- 0.0000\n"
     ]
    }
   ],
   "source": [
    "pprint_test(test_metrics)"
   ]
  },
  {
   "cell_type": "code",
   "execution_count": 136,
   "metadata": {},
   "outputs": [
    {
     "data": {
      "text/plain": [
       "['10k_cnn_add_ntev2_al30_k4_lr1e-3_L2_H4_pD0.2_s1_2020-09-12_0',\n",
       " '10k_cnn_add_ntev2_al30_k4_lr1e-3_L2_H4_pD0.2_s2_2020-09-12_0',\n",
       " '10k_cnn_add_ntev2_al30_k4_lr1e-3_L2_H4_pD0.2_s3_2020-09-12_0']"
      ]
     },
     "execution_count": 136,
     "metadata": {},
     "output_type": "execute_result"
    }
   ],
   "source": [
    "logs['add_nte']"
   ]
  },
  {
   "cell_type": "code",
   "execution_count": 173,
   "metadata": {},
   "outputs": [],
   "source": [
    "\n",
    "plot_metrics = defaultdict(dict)\n",
    "test_metrics = defaultdict(dict)\n",
    "\n",
    "\n",
    "    \n",
    "rel_metrics = defaultdict(list)\n",
    "rel_test_metrics = defaultdict(list)\n",
    "\n",
    "# load + aggregate multiple runs    \n",
    "k_config='add_nte'\n",
    "\n",
    "for ex in logs[k_config]:\n",
    "\n",
    "    ex = ex.strip()\n",
    "    with open(res_path.joinpath(ex, file_name)) as fin:\n",
    "        metrics = json.load(fin)\n",
    "\n",
    "    for k_data in ['train', 'val']:\n",
    "        for key, vals in metrics[k_data].items():\n",
    "            if key in metrics_include[k_data] and 'loss' == key:\n",
    "                rel_metrics[key].append(vals)\n",
    "            elif key in metrics_include[k_data]:\n",
    "                rel_metrics[\"_\".join([key, k_data])].append(vals)\n",
    "\n",
    "    if 'test' in metrics:\n",
    "        for key, vals in metrics['test'].items():\n",
    "            rel_test_metrics[\"_\".join([key, 'test'])].append(vals)\n",
    "\n"
   ]
  },
  {
   "cell_type": "code",
   "execution_count": 174,
   "metadata": {},
   "outputs": [
    {
     "data": {
      "text/plain": [
       "3"
      ]
     },
     "execution_count": 174,
     "metadata": {},
     "output_type": "execute_result"
    }
   ],
   "source": [
    "len(rel_metrics['loss'])"
   ]
  },
  {
   "cell_type": "code",
   "execution_count": 154,
   "metadata": {},
   "outputs": [
    {
     "data": {
      "text/plain": [
       "False"
      ]
     },
     "execution_count": 154,
     "metadata": {},
     "output_type": "execute_result"
    }
   ],
   "source": []
  },
  {
   "cell_type": "code",
   "execution_count": 115,
   "metadata": {},
   "outputs": [],
   "source": [
    "# construct averaging function\n",
    "\n",
    "# pass plot metrics to plotting function\n",
    "\n",
    "# save plot\n",
    "\n",
    "# display test metrics + std\n",
    "\n",
    "# save test metrics"
   ]
  },
  {
   "cell_type": "code",
   "execution_count": null,
   "metadata": {},
   "outputs": [],
   "source": []
  }
 ],
 "metadata": {
  "kernelspec": {
   "display_name": "venv-mt",
   "language": "python",
   "name": "venv-mt"
  },
  "language_info": {
   "codemirror_mode": {
    "name": "ipython",
    "version": 3
   },
   "file_extension": ".py",
   "mimetype": "text/x-python",
   "name": "python",
   "nbconvert_exporter": "python",
   "pygments_lexer": "ipython3",
   "version": "3.7.3"
  }
 },
 "nbformat": 4,
 "nbformat_minor": 1
}
